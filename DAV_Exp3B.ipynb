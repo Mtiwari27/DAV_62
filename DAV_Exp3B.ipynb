{
  "nbformat": 4,
  "nbformat_minor": 0,
  "metadata": {
    "colab": {
      "provenance": [],
      "authorship_tag": "ABX9TyNd7MNbMxVytacpTthruOb2",
      "include_colab_link": true
    },
    "kernelspec": {
      "name": "ir",
      "display_name": "R"
    },
    "language_info": {
      "name": "R"
    }
  },
  "cells": [
    {
      "cell_type": "markdown",
      "metadata": {
        "id": "view-in-github",
        "colab_type": "text"
      },
      "source": [
        "<a href=\"https://colab.research.google.com/github/Mtiwari27/DAV_62/blob/main/DAV_Exp3B.ipynb\" target=\"_parent\"><img src=\"https://colab.research.google.com/assets/colab-badge.svg\" alt=\"Open In Colab\"/></a>"
      ]
    },
    {
      "cell_type": "markdown",
      "source": [
        "Aim : Multiple Linear Regression in R"
      ],
      "metadata": {
        "id": "ZO8lNkoJ-9ox"
      }
    },
    {
      "cell_type": "markdown",
      "source": [
        "Packages used for Multiple Linear Regression in R"
      ],
      "metadata": {
        "id": "4uK3VkgP5DDC"
      }
    },
    {
      "cell_type": "code",
      "source": [
        "install.packages(\"lmtest\")\n",
        "library(lmtest)"
      ],
      "metadata": {
        "colab": {
          "base_uri": "https://localhost:8080/"
        },
        "id": "yCUzuu8_507H",
        "outputId": "02be0d5a-5503-47aa-ea15-fe970e8805fa"
      },
      "execution_count": 29,
      "outputs": [
        {
          "output_type": "stream",
          "name": "stderr",
          "text": [
            "Installing package into ‘/usr/local/lib/R/site-library’\n",
            "(as ‘lib’ is unspecified)\n",
            "\n"
          ]
        }
      ]
    },
    {
      "cell_type": "code",
      "source": [
        "install.packages(\"ggplot2\")\n",
        "library(ggplot2)"
      ],
      "metadata": {
        "colab": {
          "base_uri": "https://localhost:8080/"
        },
        "id": "tlTzcNp87S8P",
        "outputId": "2e46a40b-a4df-4df8-e329-ad638307be50"
      },
      "execution_count": 30,
      "outputs": [
        {
          "output_type": "stream",
          "name": "stderr",
          "text": [
            "Installing package into ‘/usr/local/lib/R/site-library’\n",
            "(as ‘lib’ is unspecified)\n",
            "\n"
          ]
        }
      ]
    },
    {
      "cell_type": "code",
      "source": [
        "install.packages(\"dplyr\")\n",
        "library(dplyr)"
      ],
      "metadata": {
        "colab": {
          "base_uri": "https://localhost:8080/"
        },
        "id": "zOQi3LZn7dYc",
        "outputId": "6f64d578-b884-4720-e4ac-68e76fb47913"
      },
      "execution_count": 31,
      "outputs": [
        {
          "output_type": "stream",
          "name": "stderr",
          "text": [
            "Installing package into ‘/usr/local/lib/R/site-library’\n",
            "(as ‘lib’ is unspecified)\n",
            "\n"
          ]
        }
      ]
    },
    {
      "cell_type": "code",
      "source": [
        "install.packages(\"broom\")\n",
        "library(broom)"
      ],
      "metadata": {
        "colab": {
          "base_uri": "https://localhost:8080/"
        },
        "id": "SCjin1ag7m4y",
        "outputId": "c04d3c57-5ccc-45de-d0ba-2da8276e57c4"
      },
      "execution_count": 32,
      "outputs": [
        {
          "output_type": "stream",
          "name": "stderr",
          "text": [
            "Installing package into ‘/usr/local/lib/R/site-library’\n",
            "(as ‘lib’ is unspecified)\n",
            "\n"
          ]
        }
      ]
    },
    {
      "cell_type": "code",
      "source": [
        "install.packages(\"ggpubr\")\n",
        "library(ggpubr)"
      ],
      "metadata": {
        "colab": {
          "base_uri": "https://localhost:8080/"
        },
        "id": "cPiMqQjy7udb",
        "outputId": "e60a36da-5ce3-4981-9c4a-10364b849192"
      },
      "execution_count": 33,
      "outputs": [
        {
          "output_type": "stream",
          "name": "stderr",
          "text": [
            "Installing package into ‘/usr/local/lib/R/site-library’\n",
            "(as ‘lib’ is unspecified)\n",
            "\n"
          ]
        }
      ]
    },
    {
      "cell_type": "markdown",
      "source": [
        "Loading the dataset and Displaying its summary:"
      ],
      "metadata": {
        "id": "yaPHerWI6DUC"
      }
    },
    {
      "cell_type": "code",
      "source": [
        "data <- read.csv(\"/content/salary2.csv\")\n",
        "\n",
        "#Displays summary\n",
        "summary(data)"
      ],
      "metadata": {
        "colab": {
          "base_uri": "https://localhost:8080/",
          "height": 138
        },
        "id": "LVfyC3Di8KTO",
        "outputId": "6e457653-6477-4618-a07f-e911cd564167"
      },
      "execution_count": 34,
      "outputs": [
        {
          "output_type": "display_data",
          "data": {
            "text/plain": [
              "      age          experience        income     \n",
              " Min.   :23.00   Min.   : 1.00   Min.   :27840  \n",
              " 1st Qu.:31.50   1st Qu.: 3.75   1st Qu.:35452  \n",
              " Median :40.00   Median : 5.00   Median :40190  \n",
              " Mean   :39.65   Mean   : 6.20   Mean   :40736  \n",
              " 3rd Qu.:47.00   3rd Qu.: 9.00   3rd Qu.:45390  \n",
              " Max.   :58.00   Max.   :17.00   Max.   :63600  "
            ]
          },
          "metadata": {}
        }
      ]
    },
    {
      "cell_type": "markdown",
      "source": [
        "Model creation and fitting"
      ],
      "metadata": {
        "id": "czjDgmOg8ect"
      }
    },
    {
      "cell_type": "code",
      "source": [
        "model <- lm(income ~ ., data = data)\n",
        "\n",
        "model_fit <- predict(model)"
      ],
      "metadata": {
        "id": "jpsusfkx8i64"
      },
      "execution_count": 35,
      "outputs": []
    },
    {
      "cell_type": "markdown",
      "source": [
        "Coefficient of Determination, Intercept and Coefficients"
      ],
      "metadata": {
        "id": "uN_Psbv76brS"
      }
    },
    {
      "cell_type": "code",
      "source": [
        "rsquared <- summary(model)$r.squared\n",
        "cat(\"Coefficient of Determination (R-squared):\", rsquared, \"\\n\")\n",
        "\n",
        "intercept <- coef(model)[1]\n",
        "cat(\"Intercept:\", intercept, \"\\n\")\n",
        "\n",
        "coefficients <- coef(model)[-1]\n",
        "cat(\"Coefficients:\\n\")\n",
        "print(coefficients)"
      ],
      "metadata": {
        "colab": {
          "base_uri": "https://localhost:8080/"
        },
        "id": "eX_8EOjC6cQm",
        "outputId": "d3b69f42-f4c5-427e-ae06-a330cc403ef4"
      },
      "execution_count": 36,
      "outputs": [
        {
          "output_type": "stream",
          "name": "stdout",
          "text": [
            "Coefficient of Determination (R-squared): 0.9773361 \n",
            "Intercept: 31261.69 \n",
            "Coefficients:\n",
            "       age experience \n",
            " -99.19536 2162.40419 \n"
          ]
        }
      ]
    },
    {
      "cell_type": "markdown",
      "source": [
        "Predict the Response"
      ],
      "metadata": {
        "id": "yi-dAxBb8-m5"
      }
    },
    {
      "cell_type": "code",
      "source": [
        "predictions <- predict(model)\n",
        "results <- cbind(Actual = data$income, Predicted = predictions)\n",
        "print(results)"
      ],
      "metadata": {
        "colab": {
          "base_uri": "https://localhost:8080/"
        },
        "id": "eolCUOcM9No4",
        "outputId": "15ceed56-07e3-4a07-d0e7-dd92674b3095"
      },
      "execution_count": 37,
      "outputs": [
        {
          "output_type": "stream",
          "name": "stdout",
          "text": [
            "   Actual Predicted\n",
            "1   30450  30944.21\n",
            "2   35670  34773.04\n",
            "3   31580  30924.32\n",
            "4   40130  38899.46\n",
            "5   47830  48620.33\n",
            "6   41630  41339.56\n",
            "7   41340  39296.24\n",
            "8   37650  36637.86\n",
            "9   40250  38403.48\n",
            "10  45150  44692.30\n",
            "11  27840  30547.43\n",
            "12  46110  46061.15\n",
            "13  36720  36717.16\n",
            "14  34800  34852.34\n",
            "15  51300  52845.94\n",
            "16  38900  40169.11\n",
            "17  63600  62269.23\n",
            "18  30870  31142.60\n",
            "19  44190  46358.73\n",
            "20  48700  49215.50\n"
          ]
        }
      ]
    },
    {
      "cell_type": "markdown",
      "source": [
        "Graph visualization"
      ],
      "metadata": {
        "id": "Z0DnCgK1-KZ4"
      }
    },
    {
      "cell_type": "code",
      "source": [
        "plot(data$income, model_fit, main = \"Actual vs Predicted Income\",\n",
        "    xlab = \"Actual Income\", ylab = \"Predicted Income\")\n",
        "abline(0, 1, col = \"red\")\n",
        "slope <- coef(model)[2]\n",
        "intercept <- coef(model)[1]\n",
        "equation <- sprintf(\"y = %.2fx + %.2f\", slope, intercept)\n",
        "text(max(data$income), max(model_fit), equation, pos = 4, col = \"blue\")"
      ],
      "metadata": {
        "colab": {
          "base_uri": "https://localhost:8080/",
          "height": 437
        },
        "id": "8RtdfW6L-JpY",
        "outputId": "a427fd40-fe9b-41ce-c127-ae6dcb577ccf"
      },
      "execution_count": 38,
      "outputs": [
        {
          "output_type": "display_data",
          "data": {
            "text/plain": [
              "Plot with title “Actual vs Predicted Income”"
            ],
            "image/png": "[encoded data removed]"
          },
          "metadata": {
            "image/png": {
              "width": 420,
              "height": 420
            }
          }
        }
      ]
    },
    {
      "cell_type": "markdown",
      "source": [
        "Conclusion :\n",
        "a) Understood the concept of Multiple Linear Regression\n",
        "\n",
        "b) Explored the packages in Python and R\n",
        "\n",
        "c) Performed Multiple Linear Regression using the Libraries in Python and R"
      ],
      "metadata": {
        "id": "-N1ufPX6_HUx"
      }
    }
  ]
}