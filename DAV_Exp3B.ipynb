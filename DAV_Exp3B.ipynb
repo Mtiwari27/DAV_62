{
  "nbformat": 4,
  "nbformat_minor": 0,
  "metadata": {
    "colab": {
      "provenance": [],
      "authorship_tag": "ABX9TyPfRqBA32LtJ7x4zg9d28Fr",
      "include_colab_link": true
    },
    "kernelspec": {
      "name": "ir",
      "display_name": "R"
    },
    "language_info": {
      "name": "R"
    }
  },
  "cells": [
    {
      "cell_type": "markdown",
      "metadata": {
        "id": "view-in-github",
        "colab_type": "text"
      },
      "source": [
        "<a href=\"https://colab.research.google.com/github/Mtiwari27/DAV_62/blob/main/DAV_Exp3B.ipynb\" target=\"_parent\"><img src=\"https://colab.research.google.com/assets/colab-badge.svg\" alt=\"Open In Colab\"/></a>"
      ]
    },
    {
      "cell_type": "markdown",
      "source": [
        "Aim : Multiple Linear Regression in R"
      ],
      "metadata": {
        "id": "ZO8lNkoJ-9ox"
      }
    },
    {
      "cell_type": "markdown",
      "source": [
        "Packages used for Multiple Linear Regression in R"
      ],
      "metadata": {
        "id": "4uK3VkgP5DDC"
      }
    },
    {
      "cell_type": "code",
      "source": [
        "install.packages(\"lmtest\")\n",
        "library(lmtest)"
      ],
      "metadata": {
        "colab": {
          "base_uri": "https://localhost:8080/"
        },
        "id": "yCUzuu8_507H",
        "outputId": "77306ef7-fbdc-4afa-cd49-61f5b59760d0"
      },
      "execution_count": 2,
      "outputs": [
        {
          "output_type": "stream",
          "name": "stderr",
          "text": [
            "Installing package into ‘/usr/local/lib/R/site-library’\n",
            "(as ‘lib’ is unspecified)\n",
            "\n"
          ]
        }
      ]
    },
    {
      "cell_type": "code",
      "source": [
        "install.packages(\"ggplot2\")\n",
        "library(ggplot2)"
      ],
      "metadata": {
        "colab": {
          "base_uri": "https://localhost:8080/"
        },
        "id": "tlTzcNp87S8P",
        "outputId": "5321fc66-ee42-43e8-eb16-868ec18e0310"
      },
      "execution_count": 3,
      "outputs": [
        {
          "output_type": "stream",
          "name": "stderr",
          "text": [
            "Installing package into ‘/usr/local/lib/R/site-library’\n",
            "(as ‘lib’ is unspecified)\n",
            "\n"
          ]
        }
      ]
    },
    {
      "cell_type": "code",
      "source": [
        "install.packages(\"dplyr\")\n",
        "library(dplyr)"
      ],
      "metadata": {
        "colab": {
          "base_uri": "https://localhost:8080/"
        },
        "id": "zOQi3LZn7dYc",
        "outputId": "da8e11c3-7224-4dd1-a849-e7ab22da764b"
      },
      "execution_count": 4,
      "outputs": [
        {
          "output_type": "stream",
          "name": "stderr",
          "text": [
            "Installing package into ‘/usr/local/lib/R/site-library’\n",
            "(as ‘lib’ is unspecified)\n",
            "\n"
          ]
        }
      ]
    },
    {
      "cell_type": "code",
      "source": [
        "install.packages(\"broom\")\n",
        "library(broom)"
      ],
      "metadata": {
        "colab": {
          "base_uri": "https://localhost:8080/"
        },
        "id": "SCjin1ag7m4y",
        "outputId": "12548d85-4727-472f-deb2-4feab6eee4cc"
      },
      "execution_count": 5,
      "outputs": [
        {
          "output_type": "stream",
          "name": "stderr",
          "text": [
            "Installing package into ‘/usr/local/lib/R/site-library’\n",
            "(as ‘lib’ is unspecified)\n",
            "\n"
          ]
        }
      ]
    },
    {
      "cell_type": "code",
      "source": [
        "install.packages(\"ggpubr\")\n",
        "library(ggpubr)"
      ],
      "metadata": {
        "colab": {
          "base_uri": "https://localhost:8080/"
        },
        "id": "cPiMqQjy7udb",
        "outputId": "45835d87-4431-48c2-fde1-76e49736a91d"
      },
      "execution_count": 7,
      "outputs": [
        {
          "output_type": "stream",
          "name": "stderr",
          "text": [
            "Installing package into ‘/usr/local/lib/R/site-library’\n",
            "(as ‘lib’ is unspecified)\n",
            "\n",
            "also installing the dependencies ‘pbkrtest’, ‘lme4’, ‘car’, ‘rstatix’\n",
            "\n",
            "\n"
          ]
        }
      ]
    },
    {
      "cell_type": "markdown",
      "source": [
        "Loading the dataset and Displaying its summary:"
      ],
      "metadata": {
        "id": "yaPHerWI6DUC"
      }
    },
    {
      "cell_type": "code",
      "source": [
        "# Load dataset\n",
        "data <- read.csv(\"/content/salary2.csv\")\n",
        "\n",
        "# Display summary\n",
        "summary(data)"
      ],
      "metadata": {
        "colab": {
          "base_uri": "https://localhost:8080/",
          "height": 138
        },
        "id": "LVfyC3Di8KTO",
        "outputId": "dafb5bef-78b1-4d2c-8855-66efbc198c9d"
      },
      "execution_count": 9,
      "outputs": [
        {
          "output_type": "display_data",
          "data": {
            "text/plain": [
              "      age          experience        income     \n",
              " Min.   :23.00   Min.   : 1.00   Min.   :27840  \n",
              " 1st Qu.:31.50   1st Qu.: 3.75   1st Qu.:35452  \n",
              " Median :40.00   Median : 5.00   Median :40190  \n",
              " Mean   :39.65   Mean   : 6.20   Mean   :40736  \n",
              " 3rd Qu.:47.00   3rd Qu.: 9.00   3rd Qu.:45390  \n",
              " Max.   :58.00   Max.   :17.00   Max.   :63600  "
            ]
          },
          "metadata": {}
        }
      ]
    },
    {
      "cell_type": "markdown",
      "source": [
        "Model creation and fitting"
      ],
      "metadata": {
        "id": "czjDgmOg8ect"
      }
    },
    {
      "cell_type": "code",
      "source": [
        "model <- lm(income ~ ., data = data)\n",
        "\n",
        "model_fit <- predict(model)"
      ],
      "metadata": {
        "id": "jpsusfkx8i64"
      },
      "execution_count": 10,
      "outputs": []
    },
    {
      "cell_type": "markdown",
      "source": [
        "Coefficient of Determination, Intercept and Coefficients"
      ],
      "metadata": {
        "id": "uN_Psbv76brS"
      }
    },
    {
      "cell_type": "code",
      "source": [
        "rsquared <- summary(model)$r.squared\n",
        "cat(\"Coefficient of Determination (R-squared):\", rsquared, \"\\n\")\n",
        "\n",
        "intercept <- coef(model)[1]\n",
        "cat(\"Intercept:\", intercept, \"\\n\")\n",
        "\n",
        "coefficients <- coef(model)[-1]\n",
        "cat(\"Coefficients:\\n\")\n",
        "print(coefficients)"
      ],
      "metadata": {
        "colab": {
          "base_uri": "https://localhost:8080/"
        },
        "id": "eX_8EOjC6cQm",
        "outputId": "235be140-2114-4bef-f583-0cade851b6a5"
      },
      "execution_count": 12,
      "outputs": [
        {
          "output_type": "stream",
          "name": "stdout",
          "text": [
            "Coefficient of Determination (R-squared): 0.9773361 \n",
            "Intercept: 31261.69 \n",
            "Coefficients:\n",
            "       age experience \n",
            " -99.19536 2162.40419 \n"
          ]
        }
      ]
    },
    {
      "cell_type": "markdown",
      "source": [
        "Predict the Response"
      ],
      "metadata": {
        "id": "yi-dAxBb8-m5"
      }
    },
    {
      "cell_type": "code",
      "source": [
        "predictions <- predict(model)\n",
        "results <- cbind(Actual = data$income, Predicted = predictions)\n",
        "print(results)"
      ],
      "metadata": {
        "colab": {
          "base_uri": "https://localhost:8080/"
        },
        "id": "eolCUOcM9No4",
        "outputId": "b42bbe32-9a49-41b2-8863-3d111b3a7ddf"
      },
      "execution_count": 17,
      "outputs": [
        {
          "output_type": "stream",
          "name": "stdout",
          "text": [
            "   Actual Predicted\n",
            "1   30450  30944.21\n",
            "2   35670  34773.04\n",
            "3   31580  30924.32\n",
            "4   40130  38899.46\n",
            "5   47830  48620.33\n",
            "6   41630  41339.56\n",
            "7   41340  39296.24\n",
            "8   37650  36637.86\n",
            "9   40250  38403.48\n",
            "10  45150  44692.30\n",
            "11  27840  30547.43\n",
            "12  46110  46061.15\n",
            "13  36720  36717.16\n",
            "14  34800  34852.34\n",
            "15  51300  52845.94\n",
            "16  38900  40169.11\n",
            "17  63600  62269.23\n",
            "18  30870  31142.60\n",
            "19  44190  46358.73\n",
            "20  48700  49215.50\n"
          ]
        }
      ]
    },
    {
      "cell_type": "markdown",
      "source": [
        "Graph visualization"
      ],
      "metadata": {
        "id": "Z0DnCgK1-KZ4"
      }
    },
    {
      "cell_type": "code",
      "source": [
        "plot(data$income, model_fit, main = \"Actual vs Predicted Prices\",\n",
        "    xlab = \"Actual Prices\", ylab = \"Predicted Prices\")\n",
        "abline(0, 1, col = \"red\")"
      ],
      "metadata": {
        "colab": {
          "base_uri": "https://localhost:8080/",
          "height": 437
        },
        "id": "8RtdfW6L-JpY",
        "outputId": "411c0506-5c80-4ca0-e119-60e7014ce01e"
      },
      "execution_count": 19,
      "outputs": [
        {
          "output_type": "display_data",
          "data": {
            "text/plain": [
              "Plot with title “Actual vs Predicted Prices”"
            ],
            "image/png": "[encoded data removed]"
          },
          "metadata": {
            "image/png": {
              "width": 420,
              "height": 420
            }
          }
        }
      ]
    },
    {
      "cell_type": "markdown",
      "source": [
        "Conclusion :\n",
        "a) Understood the concept of Multiple Linear Regression\n",
        "\n",
        "b) Explored the packages in Python and R\n",
        "\n",
        "c) Performed Multiple Linear Regression using the Libraries in Python and R"
      ],
      "metadata": {
        "id": "-N1ufPX6_HUx"
      }
    }
  ]
}