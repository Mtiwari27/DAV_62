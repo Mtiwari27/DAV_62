{
  "nbformat": 4,
  "nbformat_minor": 0,
  "metadata": {
    "colab": {
      "provenance": []
    },
    "kernelspec": {
      "name": "ir",
      "display_name": "R"
    },
    "language_info": {
      "name": "R"
    }
  },
  "cells": [
    {
      "cell_type": "code",
      "execution_count": 4,
      "metadata": {
        "colab": {
          "base_uri": "https://localhost:8080/"
        },
        "id": "8ZK8bjGg-DGs",
        "outputId": "8d24696f-201b-45b1-cbca-263756e4289e"
      },
      "outputs": [
        {
          "output_type": "stream",
          "name": "stderr",
          "text": [
            "Installing package into ‘/usr/local/lib/R/site-library’\n",
            "(as ‘lib’ is unspecified)\n",
            "\n",
            "Installing package into ‘/usr/local/lib/R/site-library’\n",
            "(as ‘lib’ is unspecified)\n",
            "\n"
          ]
        }
      ],
      "source": [
        "install.packages(\"dplyr\")\n",
        "install.packages(\"readr\")"
      ]
    },
    {
      "cell_type": "code",
      "source": [
        "library(dplyr)\n",
        "library(readr)"
      ],
      "metadata": {
        "id": "ZKaM4YWO-cuV"
      },
      "execution_count": 5,
      "outputs": []
    },
    {
      "cell_type": "code",
      "source": [
        "data <- \"/content/Number.csv\"\n",
        "df <- read.csv(data)"
      ],
      "metadata": {
        "id": "sOgBm5HJ-fdU"
      },
      "execution_count": 35,
      "outputs": []
    },
    {
      "cell_type": "code",
      "source": [
        "head(df)"
      ],
      "metadata": {
        "colab": {
          "base_uri": "https://localhost:8080/",
          "height": 306
        },
        "id": "pblLG9G2FfSs",
        "outputId": "1a87f272-da2c-44c5-aa07-eb335f7c0a0a"
      },
      "execution_count": 36,
      "outputs": [
        {
          "output_type": "display_data",
          "data": {
            "text/html": [
              "<table class=\"dataframe\">\n",
              "<caption>A data.frame: 6 × 618</caption>\n",
              "<thead>\n",
              "\t<tr><th></th><th scope=col>f1</th><th scope=col>f2</th><th scope=col>f3</th><th scope=col>f4</th><th scope=col>f5</th><th scope=col>f6</th><th scope=col>f7</th><th scope=col>f8</th><th scope=col>f9</th><th scope=col>f10</th><th scope=col>⋯</th><th scope=col>f609</th><th scope=col>f610</th><th scope=col>f611</th><th scope=col>f612</th><th scope=col>f613</th><th scope=col>f614</th><th scope=col>f615</th><th scope=col>f616</th><th scope=col>f617</th><th scope=col>class</th></tr>\n",
              "\t<tr><th></th><th scope=col>&lt;dbl&gt;</th><th scope=col>&lt;dbl&gt;</th><th scope=col>&lt;dbl&gt;</th><th scope=col>&lt;dbl&gt;</th><th scope=col>&lt;dbl&gt;</th><th scope=col>&lt;dbl&gt;</th><th scope=col>&lt;dbl&gt;</th><th scope=col>&lt;dbl&gt;</th><th scope=col>&lt;dbl&gt;</th><th scope=col>&lt;dbl&gt;</th><th scope=col>⋯</th><th scope=col>&lt;dbl&gt;</th><th scope=col>&lt;dbl&gt;</th><th scope=col>&lt;dbl&gt;</th><th scope=col>&lt;dbl&gt;</th><th scope=col>&lt;dbl&gt;</th><th scope=col>&lt;dbl&gt;</th><th scope=col>&lt;dbl&gt;</th><th scope=col>&lt;dbl&gt;</th><th scope=col>&lt;dbl&gt;</th><th scope=col>&lt;chr&gt;</th></tr>\n",
              "</thead>\n",
              "<tbody>\n",
              "\t<tr><th scope=row>1</th><td>-0.4394</td><td>-0.0930</td><td>0.1718</td><td>0.4620</td><td> 0.6226</td><td> 0.4704</td><td> 0.3578</td><td> 0.0478</td><td>-0.1184</td><td>-0.2310</td><td>⋯</td><td> 0.4102</td><td> 0.2052</td><td> 0.3846</td><td> 0.3590</td><td> 0.5898</td><td>0.3334</td><td> 0.6410</td><td>0.5898</td><td>-0.4872</td><td>'1'</td></tr>\n",
              "\t<tr><th scope=row>2</th><td>-0.4348</td><td>-0.1198</td><td>0.2474</td><td>0.4036</td><td> 0.5026</td><td> 0.6328</td><td> 0.4948</td><td> 0.0338</td><td>-0.0520</td><td>-0.1302</td><td>⋯</td><td> 0.0000</td><td> 0.2954</td><td> 0.2046</td><td> 0.4772</td><td> 0.0454</td><td>0.2046</td><td> 0.4318</td><td>0.4546</td><td>-0.0910</td><td>'1'</td></tr>\n",
              "\t<tr><th scope=row>3</th><td>-0.2330</td><td> 0.2124</td><td>0.5014</td><td>0.5222</td><td>-0.3422</td><td>-0.5840</td><td>-0.7168</td><td>-0.6342</td><td>-0.8614</td><td>-0.8318</td><td>⋯</td><td>-0.1112</td><td>-0.0476</td><td>-0.1746</td><td> 0.0318</td><td>-0.0476</td><td>0.1112</td><td> 0.2540</td><td>0.1588</td><td>-0.4762</td><td>'2'</td></tr>\n",
              "\t<tr><th scope=row>4</th><td>-0.3808</td><td>-0.0096</td><td>0.2602</td><td>0.2554</td><td>-0.4290</td><td>-0.6746</td><td>-0.6868</td><td>-0.6650</td><td>-0.8410</td><td>-0.9614</td><td>⋯</td><td>-0.0504</td><td>-0.0360</td><td>-0.1224</td><td> 0.1366</td><td> 0.2950</td><td>0.0792</td><td>-0.0072</td><td>0.0936</td><td>-0.1510</td><td>'2'</td></tr>\n",
              "\t<tr><th scope=row>5</th><td>-0.3412</td><td> 0.0946</td><td>0.6082</td><td>0.6216</td><td>-0.1622</td><td>-0.3784</td><td>-0.4324</td><td>-0.4358</td><td>-0.4966</td><td>-0.5406</td><td>⋯</td><td> 0.1562</td><td> 0.3124</td><td> 0.2500</td><td>-0.0938</td><td> 0.1562</td><td>0.3124</td><td> 0.3124</td><td>0.2188</td><td>-0.2500</td><td>'3'</td></tr>\n",
              "\t<tr><th scope=row>6</th><td>-0.4634</td><td> 0.0306</td><td>0.3546</td><td>0.4448</td><td>-0.1022</td><td>-0.4184</td><td>-0.6388</td><td>-0.4370</td><td>-0.4396</td><td>-0.6654</td><td>⋯</td><td> 0.6626</td><td> 0.7350</td><td> 0.3734</td><td> 0.6626</td><td> 0.3012</td><td>0.1808</td><td> 0.2290</td><td>0.6144</td><td> 0.3254</td><td>'3'</td></tr>\n",
              "</tbody>\n",
              "</table>\n"
            ],
            "text/markdown": "\nA data.frame: 6 × 618\n\n| <!--/--> | f1 &lt;dbl&gt; | f2 &lt;dbl&gt; | f3 &lt;dbl&gt; | f4 &lt;dbl&gt; | f5 &lt;dbl&gt; | f6 &lt;dbl&gt; | f7 &lt;dbl&gt; | f8 &lt;dbl&gt; | f9 &lt;dbl&gt; | f10 &lt;dbl&gt; | ⋯ ⋯ | f609 &lt;dbl&gt; | f610 &lt;dbl&gt; | f611 &lt;dbl&gt; | f612 &lt;dbl&gt; | f613 &lt;dbl&gt; | f614 &lt;dbl&gt; | f615 &lt;dbl&gt; | f616 &lt;dbl&gt; | f617 &lt;dbl&gt; | class &lt;chr&gt; |\n|---|---|---|---|---|---|---|---|---|---|---|---|---|---|---|---|---|---|---|---|---|---|\n| 1 | -0.4394 | -0.0930 | 0.1718 | 0.4620 |  0.6226 |  0.4704 |  0.3578 |  0.0478 | -0.1184 | -0.2310 | ⋯ |  0.4102 |  0.2052 |  0.3846 |  0.3590 |  0.5898 | 0.3334 |  0.6410 | 0.5898 | -0.4872 | '1' |\n| 2 | -0.4348 | -0.1198 | 0.2474 | 0.4036 |  0.5026 |  0.6328 |  0.4948 |  0.0338 | -0.0520 | -0.1302 | ⋯ |  0.0000 |  0.2954 |  0.2046 |  0.4772 |  0.0454 | 0.2046 |  0.4318 | 0.4546 | -0.0910 | '1' |\n| 3 | -0.2330 |  0.2124 | 0.5014 | 0.5222 | -0.3422 | -0.5840 | -0.7168 | -0.6342 | -0.8614 | -0.8318 | ⋯ | -0.1112 | -0.0476 | -0.1746 |  0.0318 | -0.0476 | 0.1112 |  0.2540 | 0.1588 | -0.4762 | '2' |\n| 4 | -0.3808 | -0.0096 | 0.2602 | 0.2554 | -0.4290 | -0.6746 | -0.6868 | -0.6650 | -0.8410 | -0.9614 | ⋯ | -0.0504 | -0.0360 | -0.1224 |  0.1366 |  0.2950 | 0.0792 | -0.0072 | 0.0936 | -0.1510 | '2' |\n| 5 | -0.3412 |  0.0946 | 0.6082 | 0.6216 | -0.1622 | -0.3784 | -0.4324 | -0.4358 | -0.4966 | -0.5406 | ⋯ |  0.1562 |  0.3124 |  0.2500 | -0.0938 |  0.1562 | 0.3124 |  0.3124 | 0.2188 | -0.2500 | '3' |\n| 6 | -0.4634 |  0.0306 | 0.3546 | 0.4448 | -0.1022 | -0.4184 | -0.6388 | -0.4370 | -0.4396 | -0.6654 | ⋯ |  0.6626 |  0.7350 |  0.3734 |  0.6626 |  0.3012 | 0.1808 |  0.2290 | 0.6144 |  0.3254 | '3' |\n\n",
            "text/latex": "A data.frame: 6 × 618\n\\begin{tabular}{r|lllllllllllllllllllll}\n  & f1 & f2 & f3 & f4 & f5 & f6 & f7 & f8 & f9 & f10 & ⋯ & f609 & f610 & f611 & f612 & f613 & f614 & f615 & f616 & f617 & class\\\\\n  & <dbl> & <dbl> & <dbl> & <dbl> & <dbl> & <dbl> & <dbl> & <dbl> & <dbl> & <dbl> & ⋯ & <dbl> & <dbl> & <dbl> & <dbl> & <dbl> & <dbl> & <dbl> & <dbl> & <dbl> & <chr>\\\\\n\\hline\n\t1 & -0.4394 & -0.0930 & 0.1718 & 0.4620 &  0.6226 &  0.4704 &  0.3578 &  0.0478 & -0.1184 & -0.2310 & ⋯ &  0.4102 &  0.2052 &  0.3846 &  0.3590 &  0.5898 & 0.3334 &  0.6410 & 0.5898 & -0.4872 & '1'\\\\\n\t2 & -0.4348 & -0.1198 & 0.2474 & 0.4036 &  0.5026 &  0.6328 &  0.4948 &  0.0338 & -0.0520 & -0.1302 & ⋯ &  0.0000 &  0.2954 &  0.2046 &  0.4772 &  0.0454 & 0.2046 &  0.4318 & 0.4546 & -0.0910 & '1'\\\\\n\t3 & -0.2330 &  0.2124 & 0.5014 & 0.5222 & -0.3422 & -0.5840 & -0.7168 & -0.6342 & -0.8614 & -0.8318 & ⋯ & -0.1112 & -0.0476 & -0.1746 &  0.0318 & -0.0476 & 0.1112 &  0.2540 & 0.1588 & -0.4762 & '2'\\\\\n\t4 & -0.3808 & -0.0096 & 0.2602 & 0.2554 & -0.4290 & -0.6746 & -0.6868 & -0.6650 & -0.8410 & -0.9614 & ⋯ & -0.0504 & -0.0360 & -0.1224 &  0.1366 &  0.2950 & 0.0792 & -0.0072 & 0.0936 & -0.1510 & '2'\\\\\n\t5 & -0.3412 &  0.0946 & 0.6082 & 0.6216 & -0.1622 & -0.3784 & -0.4324 & -0.4358 & -0.4966 & -0.5406 & ⋯ &  0.1562 &  0.3124 &  0.2500 & -0.0938 &  0.1562 & 0.3124 &  0.3124 & 0.2188 & -0.2500 & '3'\\\\\n\t6 & -0.4634 &  0.0306 & 0.3546 & 0.4448 & -0.1022 & -0.4184 & -0.6388 & -0.4370 & -0.4396 & -0.6654 & ⋯ &  0.6626 &  0.7350 &  0.3734 &  0.6626 &  0.3012 & 0.1808 &  0.2290 & 0.6144 &  0.3254 & '3'\\\\\n\\end{tabular}\n",
            "text/plain": [
              "  f1      f2      f3     f4     f5      f6      f7      f8      f9      f10    \n",
              "1 -0.4394 -0.0930 0.1718 0.4620  0.6226  0.4704  0.3578  0.0478 -0.1184 -0.2310\n",
              "2 -0.4348 -0.1198 0.2474 0.4036  0.5026  0.6328  0.4948  0.0338 -0.0520 -0.1302\n",
              "3 -0.2330  0.2124 0.5014 0.5222 -0.3422 -0.5840 -0.7168 -0.6342 -0.8614 -0.8318\n",
              "4 -0.3808 -0.0096 0.2602 0.2554 -0.4290 -0.6746 -0.6868 -0.6650 -0.8410 -0.9614\n",
              "5 -0.3412  0.0946 0.6082 0.6216 -0.1622 -0.3784 -0.4324 -0.4358 -0.4966 -0.5406\n",
              "6 -0.4634  0.0306 0.3546 0.4448 -0.1022 -0.4184 -0.6388 -0.4370 -0.4396 -0.6654\n",
              "  ⋯ f609    f610    f611    f612    f613    f614   f615    f616   f617    class\n",
              "1 ⋯  0.4102  0.2052  0.3846  0.3590  0.5898 0.3334  0.6410 0.5898 -0.4872 '1'  \n",
              "2 ⋯  0.0000  0.2954  0.2046  0.4772  0.0454 0.2046  0.4318 0.4546 -0.0910 '1'  \n",
              "3 ⋯ -0.1112 -0.0476 -0.1746  0.0318 -0.0476 0.1112  0.2540 0.1588 -0.4762 '2'  \n",
              "4 ⋯ -0.0504 -0.0360 -0.1224  0.1366  0.2950 0.0792 -0.0072 0.0936 -0.1510 '2'  \n",
              "5 ⋯  0.1562  0.3124  0.2500 -0.0938  0.1562 0.3124  0.3124 0.2188 -0.2500 '3'  \n",
              "6 ⋯  0.6626  0.7350  0.3734  0.6626  0.3012 0.1808  0.2290 0.6144  0.3254 '3'  "
            ]
          },
          "metadata": {}
        }
      ]
    },
    {
      "cell_type": "code",
      "source": [
        "summary_stats <- df %>%\n",
        "  summarise(\n",
        "    avg_f1 = mean(f1),\n",
        "    avg_f2 = mean(f2),\n",
        "    avg_f3 = mean(f3),\n",
        "    median_f1 = median(f1),\n",
        "    median_f2 = median(f2),\n",
        "    median_f3 = median(f3),\n",
        "    mode_f1 = mode(f1),\n",
        "    mode_f2 = mode(f2),\n",
        "    mode_f3 = mode(f3)\n",
        "  )\n",
        "  print(summary_stats)"
      ],
      "metadata": {
        "colab": {
          "base_uri": "https://localhost:8080/"
        },
        "id": "iNfFIdORG2sF",
        "outputId": "917e63d4-b1c9-4bd0-f2d5-3b712d35bdfb"
      },
      "execution_count": 39,
      "outputs": [
        {
          "output_type": "stream",
          "name": "stdout",
          "text": [
            "      avg_f1    avg_f2    avg_f3 median_f1 median_f2 median_f3 mode_f1 mode_f2\n",
            "1 -0.3749676 0.1495091 0.3272012   -0.3924    0.0996     0.276 numeric numeric\n",
            "  mode_f3\n",
            "1 numeric\n"
          ]
        }
      ]
    },
    {
      "cell_type": "code",
      "source": [
        "sample_n(df,3)"
      ],
      "metadata": {
        "colab": {
          "base_uri": "https://localhost:8080/",
          "height": 192
        },
        "id": "-EPXFzT9IvE9",
        "outputId": "f15a354a-f5ea-489b-8e72-442e541c0ba8"
      },
      "execution_count": 49,
      "outputs": [
        {
          "output_type": "display_data",
          "data": {
            "text/html": [
              "<table class=\"dataframe\">\n",
              "<caption>A data.frame: 3 × 618</caption>\n",
              "<thead>\n",
              "\t<tr><th scope=col>f1</th><th scope=col>f2</th><th scope=col>f3</th><th scope=col>f4</th><th scope=col>f5</th><th scope=col>f6</th><th scope=col>f7</th><th scope=col>f8</th><th scope=col>f9</th><th scope=col>f10</th><th scope=col>⋯</th><th scope=col>f609</th><th scope=col>f610</th><th scope=col>f611</th><th scope=col>f612</th><th scope=col>f613</th><th scope=col>f614</th><th scope=col>f615</th><th scope=col>f616</th><th scope=col>f617</th><th scope=col>class</th></tr>\n",
              "\t<tr><th scope=col>&lt;dbl&gt;</th><th scope=col>&lt;dbl&gt;</th><th scope=col>&lt;dbl&gt;</th><th scope=col>&lt;dbl&gt;</th><th scope=col>&lt;dbl&gt;</th><th scope=col>&lt;dbl&gt;</th><th scope=col>&lt;dbl&gt;</th><th scope=col>&lt;dbl&gt;</th><th scope=col>&lt;dbl&gt;</th><th scope=col>&lt;dbl&gt;</th><th scope=col>⋯</th><th scope=col>&lt;dbl&gt;</th><th scope=col>&lt;dbl&gt;</th><th scope=col>&lt;dbl&gt;</th><th scope=col>&lt;dbl&gt;</th><th scope=col>&lt;dbl&gt;</th><th scope=col>&lt;dbl&gt;</th><th scope=col>&lt;dbl&gt;</th><th scope=col>&lt;dbl&gt;</th><th scope=col>&lt;dbl&gt;</th><th scope=col>&lt;chr&gt;</th></tr>\n",
              "</thead>\n",
              "<tbody>\n",
              "\t<tr><td>-0.5000</td><td>-0.1894</td><td>-0.0048</td><td> 0.1068</td><td>0.4344</td><td>0.3640</td><td>0.2500</td><td>0.0558</td><td>0.0364</td><td>-0.1796</td><td>⋯</td><td>0.0574</td><td> 0.0804</td><td>0.6552</td><td> 1.0000</td><td> 0.4712</td><td>0.2414</td><td>-0.0460</td><td> 0.0574</td><td>-0.0804</td><td>'14'</td></tr>\n",
              "\t<tr><td>-0.5984</td><td>-0.2426</td><td>-0.1252</td><td>-0.0934</td><td>0.0178</td><td>0.3082</td><td>0.5646</td><td>0.8470</td><td>0.9602</td><td> 1.0000</td><td>⋯</td><td>0.0624</td><td>-0.0208</td><td>0.1458</td><td>-0.1876</td><td>-0.1250</td><td>0.0624</td><td> 0.2708</td><td>-0.3542</td><td>-0.6876</td><td>'18'</td></tr>\n",
              "\t<tr><td>-0.5276</td><td>-0.2964</td><td>-0.2222</td><td>-0.1316</td><td>0.3468</td><td>0.5276</td><td>0.7006</td><td>0.8714</td><td>0.9336</td><td> 1.0000</td><td>⋯</td><td>0.5424</td><td> 0.2882</td><td>0.1694</td><td> 0.1694</td><td> 0.5594</td><td>0.6272</td><td> 0.0508</td><td> 0.2712</td><td> 0.1356</td><td>'9' </td></tr>\n",
              "</tbody>\n",
              "</table>\n"
            ],
            "text/markdown": "\nA data.frame: 3 × 618\n\n| f1 &lt;dbl&gt; | f2 &lt;dbl&gt; | f3 &lt;dbl&gt; | f4 &lt;dbl&gt; | f5 &lt;dbl&gt; | f6 &lt;dbl&gt; | f7 &lt;dbl&gt; | f8 &lt;dbl&gt; | f9 &lt;dbl&gt; | f10 &lt;dbl&gt; | ⋯ ⋯ | f609 &lt;dbl&gt; | f610 &lt;dbl&gt; | f611 &lt;dbl&gt; | f612 &lt;dbl&gt; | f613 &lt;dbl&gt; | f614 &lt;dbl&gt; | f615 &lt;dbl&gt; | f616 &lt;dbl&gt; | f617 &lt;dbl&gt; | class &lt;chr&gt; |\n|---|---|---|---|---|---|---|---|---|---|---|---|---|---|---|---|---|---|---|---|---|\n| -0.5000 | -0.1894 | -0.0048 |  0.1068 | 0.4344 | 0.3640 | 0.2500 | 0.0558 | 0.0364 | -0.1796 | ⋯ | 0.0574 |  0.0804 | 0.6552 |  1.0000 |  0.4712 | 0.2414 | -0.0460 |  0.0574 | -0.0804 | '14' |\n| -0.5984 | -0.2426 | -0.1252 | -0.0934 | 0.0178 | 0.3082 | 0.5646 | 0.8470 | 0.9602 |  1.0000 | ⋯ | 0.0624 | -0.0208 | 0.1458 | -0.1876 | -0.1250 | 0.0624 |  0.2708 | -0.3542 | -0.6876 | '18' |\n| -0.5276 | -0.2964 | -0.2222 | -0.1316 | 0.3468 | 0.5276 | 0.7006 | 0.8714 | 0.9336 |  1.0000 | ⋯ | 0.5424 |  0.2882 | 0.1694 |  0.1694 |  0.5594 | 0.6272 |  0.0508 |  0.2712 |  0.1356 | '9'  |\n\n",
            "text/latex": "A data.frame: 3 × 618\n\\begin{tabular}{lllllllllllllllllllll}\n f1 & f2 & f3 & f4 & f5 & f6 & f7 & f8 & f9 & f10 & ⋯ & f609 & f610 & f611 & f612 & f613 & f614 & f615 & f616 & f617 & class\\\\\n <dbl> & <dbl> & <dbl> & <dbl> & <dbl> & <dbl> & <dbl> & <dbl> & <dbl> & <dbl> & ⋯ & <dbl> & <dbl> & <dbl> & <dbl> & <dbl> & <dbl> & <dbl> & <dbl> & <dbl> & <chr>\\\\\n\\hline\n\t -0.5000 & -0.1894 & -0.0048 &  0.1068 & 0.4344 & 0.3640 & 0.2500 & 0.0558 & 0.0364 & -0.1796 & ⋯ & 0.0574 &  0.0804 & 0.6552 &  1.0000 &  0.4712 & 0.2414 & -0.0460 &  0.0574 & -0.0804 & '14'\\\\\n\t -0.5984 & -0.2426 & -0.1252 & -0.0934 & 0.0178 & 0.3082 & 0.5646 & 0.8470 & 0.9602 &  1.0000 & ⋯ & 0.0624 & -0.0208 & 0.1458 & -0.1876 & -0.1250 & 0.0624 &  0.2708 & -0.3542 & -0.6876 & '18'\\\\\n\t -0.5276 & -0.2964 & -0.2222 & -0.1316 & 0.3468 & 0.5276 & 0.7006 & 0.8714 & 0.9336 &  1.0000 & ⋯ & 0.5424 &  0.2882 & 0.1694 &  0.1694 &  0.5594 & 0.6272 &  0.0508 &  0.2712 &  0.1356 & '9' \\\\\n\\end{tabular}\n",
            "text/plain": [
              "  f1      f2      f3      f4      f5     f6     f7     f8     f9     f10     ⋯\n",
              "1 -0.5000 -0.1894 -0.0048  0.1068 0.4344 0.3640 0.2500 0.0558 0.0364 -0.1796 ⋯\n",
              "2 -0.5984 -0.2426 -0.1252 -0.0934 0.0178 0.3082 0.5646 0.8470 0.9602  1.0000 ⋯\n",
              "3 -0.5276 -0.2964 -0.2222 -0.1316 0.3468 0.5276 0.7006 0.8714 0.9336  1.0000 ⋯\n",
              "  f609   f610    f611   f612    f613    f614   f615    f616    f617    class\n",
              "1 0.0574  0.0804 0.6552  1.0000  0.4712 0.2414 -0.0460  0.0574 -0.0804 '14' \n",
              "2 0.0624 -0.0208 0.1458 -0.1876 -0.1250 0.0624  0.2708 -0.3542 -0.6876 '18' \n",
              "3 0.5424  0.2882 0.1694  0.1694  0.5594 0.6272  0.0508  0.2712  0.1356 '9'  "
            ]
          },
          "metadata": {}
        }
      ]
    }
  ]
}