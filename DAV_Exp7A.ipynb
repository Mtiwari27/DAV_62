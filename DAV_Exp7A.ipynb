{
  "nbformat": 4,
  "nbformat_minor": 0,
  "metadata": {
    "colab": {
      "provenance": [],
      "authorship_tag": "ABX9TyNLg32m9uuEDkYYLoPW2qy8",
      "include_colab_link": true
    },
    "kernelspec": {
      "name": "python3",
      "display_name": "Python 3"
    },
    "language_info": {
      "name": "python"
    }
  },
  "cells": [
    {
      "cell_type": "markdown",
      "metadata": {
        "id": "view-in-github",
        "colab_type": "text"
      },
      "source": [
        "<a href=\"https://colab.research.google.com/github/Mtiwari27/DAV_62/blob/main/DAV_Exp7A.ipynb\" target=\"_parent\"><img src=\"https://colab.research.google.com/assets/colab-badge.svg\" alt=\"Open In Colab\"/></a>"
      ]
    },
    {
      "cell_type": "markdown",
      "source": [
        "Aim : Perform the steps involved in Text Analytics in Python & R"
      ],
      "metadata": {
        "id": "DZEQWM3bW3Z1"
      }
    },
    {
      "cell_type": "code",
      "execution_count": 72,
      "metadata": {
        "id": "lqCpXVy9Dz0I"
      },
      "outputs": [],
      "source": [
        "%%capture\n",
        "#capture is used to hide output\n",
        "!pip install nltk\n",
        "!pip install pattern"
      ]
    },
    {
      "cell_type": "markdown",
      "source": [
        "Sentence Tokenization and\n",
        "Word Tokenization"
      ],
      "metadata": {
        "id": "Q8WTzUzOMB-E"
      }
    },
    {
      "cell_type": "code",
      "source": [
        "from nltk.tokenize import sent_tokenize, word_tokenize\n",
        "import nltk\n",
        "nltk.download('punkt')\n",
        "text = \"\"\"Can you believe this fool, Dr. Thomas Frieden of CDC, just stated, \"anyone with fever should be aske...Uncomfortable looking NBC reporter Willie Geist calls me to ask for favors and then mockingly smiles...\"\"\"\n",
        "tokenized_text = sent_tokenize(text)\n",
        "print('Tokenized sentence :',tokenized_text)\n",
        "tokenized_word = word_tokenize(text)\n",
        "print('Tokenized word :',tokenized_word)"
      ],
      "metadata": {
        "colab": {
          "base_uri": "https://localhost:8080/"
        },
        "id": "Ti3nuJBkG_fT",
        "outputId": "110e1e5e-cdc8-4bb7-8ae2-a7f4c16d2b44"
      },
      "execution_count": 37,
      "outputs": [
        {
          "output_type": "stream",
          "name": "stdout",
          "text": [
            "Tokenized sentence : ['Can you believe this fool, Dr. Thomas Frieden of CDC, just stated, \"anyone with fever should be aske...Uncomfortable looking NBC reporter Willie Geist calls me to ask for favors and then mockingly smiles...']\n",
            "Tokenized word : ['Can', 'you', 'believe', 'this', 'fool', ',', 'Dr.', 'Thomas', 'Frieden', 'of', 'CDC', ',', 'just', 'stated', ',', '``', 'anyone', 'with', 'fever', 'should', 'be', 'aske', '...', 'Uncomfortable', 'looking', 'NBC', 'reporter', 'Willie', 'Geist', 'calls', 'me', 'to', 'ask', 'for', 'favors', 'and', 'then', 'mockingly', 'smiles', '...']\n"
          ]
        },
        {
          "output_type": "stream",
          "name": "stderr",
          "text": [
            "[nltk_data] Downloading package punkt to /root/nltk_data...\n",
            "[nltk_data]   Package punkt is already up-to-date!\n"
          ]
        }
      ]
    },
    {
      "cell_type": "code",
      "source": [
        "import nltk\n",
        "nltk.download('stopwords')\n",
        "stop_words=set(stopwords.words(\"english\"))\n",
        "print(stop_words)"
      ],
      "metadata": {
        "colab": {
          "base_uri": "https://localhost:8080/"
        },
        "id": "V1GUAlA2I1ck",
        "outputId": "65cd5d9d-eee7-4159-8d1e-e0bef944e70c"
      },
      "execution_count": 38,
      "outputs": [
        {
          "output_type": "stream",
          "name": "stdout",
          "text": [
            "{'mustn', 'what', 'an', 'or', 'most', 'wasn', 'your', 'did', 'which', 'but', 'to', 'than', 'she', 'been', 'this', 'didn', \"don't\", 'i', 'not', 'as', 'during', 'same', 'shan', 'have', 'do', \"isn't\", 'so', 'below', 't', 'hers', 'down', 'very', 'about', 'then', 'herself', \"shouldn't\", \"wouldn't\", 'once', 'you', 'hasn', 'of', 'here', 'above', 'all', 'more', 'each', 'such', 'were', 'just', 'had', 'ours', 'no', 'while', 'now', 'our', \"haven't\", 'it', 'ain', 'only', \"you've\", 'and', 'into', \"doesn't\", 'few', 'doesn', 'isn', \"weren't\", 'both', 'because', 'by', 'from', 've', 'how', \"hasn't\", \"shan't\", 'before', 'needn', 'the', 'my', \"won't\", \"you'd\", \"you'll\", \"didn't\", 'am', 'd', 'whom', 'with', \"that'll\", 'other', 'over', 'for', 'he', 'weren', \"needn't\", 'between', 'nor', 'themselves', 'until', \"wasn't\", 'why', 'when', 'hadn', 'who', \"she's\", 'their', 'off', 'they', 'was', 'll', 'those', 'any', 'yourselves', 'theirs', 'has', 'up', 'through', 'in', 'a', 'don', 'wouldn', 'them', \"it's\", 'aren', 'will', 'under', 'myself', 'yours', 'that', 'doing', 'further', 'won', \"mightn't\", 'are', 'haven', 'own', \"hadn't\", 'y', 'can', 'there', 'at', 'her', 's', 'ma', 'out', 'yourself', \"couldn't\", 'if', \"aren't\", 'against', 'o', 'itself', 'mightn', 'does', 'these', \"you're\", 'is', 'its', 'we', 'shouldn', 'm', 'me', 're', 'some', 'be', 'ourselves', 'him', 'too', 'his', 'should', 'being', 'on', 'again', \"should've\", 'couldn', 'after', 'having', \"mustn't\", 'where', 'himself'}\n"
          ]
        },
        {
          "output_type": "stream",
          "name": "stderr",
          "text": [
            "[nltk_data] Downloading package stopwords to /root/nltk_data...\n",
            "[nltk_data]   Package stopwords is already up-to-date!\n"
          ]
        }
      ]
    },
    {
      "cell_type": "markdown",
      "source": [
        "Removing Stopwords"
      ],
      "metadata": {
        "id": "PaPM8nH_MrQt"
      }
    },
    {
      "cell_type": "code",
      "source": [
        "filtered_tokens=[]\n",
        "for w in tokenized_word:\n",
        "    if w not in stop_words:\n",
        "         filtered_tokens.append(w)\n",
        "\n",
        "print(\"Tokenized Words:\",tokenized_word)\n",
        "print(\"Filterd Tokens:\",filtered_tokens)"
      ],
      "metadata": {
        "colab": {
          "base_uri": "https://localhost:8080/"
        },
        "id": "SmFf6IrTJQe9",
        "outputId": "52f85303-f6ef-41fd-c71a-18818141cde0"
      },
      "execution_count": 39,
      "outputs": [
        {
          "output_type": "stream",
          "name": "stdout",
          "text": [
            "Tokenized Words: ['Can', 'you', 'believe', 'this', 'fool', ',', 'Dr.', 'Thomas', 'Frieden', 'of', 'CDC', ',', 'just', 'stated', ',', '``', 'anyone', 'with', 'fever', 'should', 'be', 'aske', '...', 'Uncomfortable', 'looking', 'NBC', 'reporter', 'Willie', 'Geist', 'calls', 'me', 'to', 'ask', 'for', 'favors', 'and', 'then', 'mockingly', 'smiles', '...']\n",
            "Filterd Tokens: ['Can', 'believe', 'fool', ',', 'Dr.', 'Thomas', 'Frieden', 'CDC', ',', 'stated', ',', '``', 'anyone', 'fever', 'aske', '...', 'Uncomfortable', 'looking', 'NBC', 'reporter', 'Willie', 'Geist', 'calls', 'ask', 'favors', 'mockingly', 'smiles', '...']\n"
          ]
        }
      ]
    },
    {
      "cell_type": "markdown",
      "source": [
        "Removing Punctuations"
      ],
      "metadata": {
        "id": "DYULXVfhMnS-"
      }
    },
    {
      "cell_type": "code",
      "source": [
        "import string\n",
        "punctuations=list(string.punctuation)\n",
        "filtered_tokens2=[]\n",
        "for i in filtered_tokens:\n",
        "    if i not in punctuations:\n",
        "        filtered_tokens2.append(i)\n",
        "print(\"Filterd Tokens After Removing Punctuations:\",filtered_tokens2)"
      ],
      "metadata": {
        "colab": {
          "base_uri": "https://localhost:8080/"
        },
        "id": "qTOps58sJbJW",
        "outputId": "6e3209ca-e0fb-4023-e1e4-6aefd6b4ece2"
      },
      "execution_count": 40,
      "outputs": [
        {
          "output_type": "stream",
          "name": "stdout",
          "text": [
            "Filterd Tokens After Removing Punctuations: ['Can', 'believe', 'fool', 'Dr.', 'Thomas', 'Frieden', 'CDC', 'stated', '``', 'anyone', 'fever', 'aske', '...', 'Uncomfortable', 'looking', 'NBC', 'reporter', 'Willie', 'Geist', 'calls', 'ask', 'favors', 'mockingly', 'smiles', '...']\n"
          ]
        }
      ]
    },
    {
      "cell_type": "markdown",
      "source": [
        "Frequency Distribution"
      ],
      "metadata": {
        "id": "BEuKmPJ3Mvvb"
      }
    },
    {
      "cell_type": "code",
      "source": [
        "from nltk.probability import FreqDist\n",
        "fdist = FreqDist(tokenized_word)\n",
        "print(fdist.most_common(2))\n",
        "import matplotlib.pyplot as plt\n",
        "fdist.plot(30,cumulative=False)\n",
        "plt.show()"
      ],
      "metadata": {
        "colab": {
          "base_uri": "https://localhost:8080/",
          "height": 556
        },
        "id": "Oh0MJPe3JtXc",
        "outputId": "5e40ae5d-cab0-40ea-a622-1512bdb0af1b"
      },
      "execution_count": 41,
      "outputs": [
        {
          "output_type": "stream",
          "name": "stdout",
          "text": [
            "[(',', 3), ('...', 2)]\n"
          ]
        },
        {
          "output_type": "display_data",
          "data": {
            "text/plain": [
              "<Figure size 640x480 with 1 Axes>"
            ],
            "image/png": "[encoded data removed]"
          },
          "metadata": {}
        }
      ]
    },
    {
      "cell_type": "markdown",
      "source": [
        "Lexicon Normalization"
      ],
      "metadata": {
        "id": "kljGFrzEM6Mr"
      }
    },
    {
      "cell_type": "markdown",
      "source": [
        "1. Stemming"
      ],
      "metadata": {
        "id": "Tx2kPBX7M9SL"
      }
    },
    {
      "cell_type": "code",
      "source": [
        "# Stemming\n",
        "from nltk.stem import PorterStemmer\n",
        "from nltk.tokenize import sent_tokenize, word_tokenize\n",
        "ps = PorterStemmer()\n",
        "\n",
        "stemmed_words=[]\n",
        "\n",
        "for w in filtered_tokens2:\n",
        "     stemmed_words.append(ps.stem(w))\n",
        "\n",
        "print(\"Filtered Tokens After Removing Punctuations:\",filtered_tokens2)\n",
        "print(\"Stemmed Tokens:\",stemmed_words)"
      ],
      "metadata": {
        "colab": {
          "base_uri": "https://localhost:8080/"
        },
        "id": "VZJ1K65tJ-7z",
        "outputId": "46c509e7-f7bc-41b8-ba6c-2ca8d73884cb"
      },
      "execution_count": 42,
      "outputs": [
        {
          "output_type": "stream",
          "name": "stdout",
          "text": [
            "Filtered Tokens After Removing Punctuations: ['Can', 'believe', 'fool', 'Dr.', 'Thomas', 'Frieden', 'CDC', 'stated', '``', 'anyone', 'fever', 'aske', '...', 'Uncomfortable', 'looking', 'NBC', 'reporter', 'Willie', 'Geist', 'calls', 'ask', 'favors', 'mockingly', 'smiles', '...']\n",
            "Stemmed Tokens: ['can', 'believ', 'fool', 'dr.', 'thoma', 'frieden', 'cdc', 'state', '``', 'anyon', 'fever', 'ask', '...', 'uncomfort', 'look', 'nbc', 'report', 'willi', 'geist', 'call', 'ask', 'favor', 'mockingli', 'smile', '...']\n"
          ]
        }
      ]
    },
    {
      "cell_type": "markdown",
      "source": [
        "2. Lemmatization"
      ],
      "metadata": {
        "id": "nInz2oiENRjs"
      }
    },
    {
      "cell_type": "code",
      "source": [
        "#Lemmatization\n",
        "from nltk.stem.wordnet import WordNetLemmatizer\n",
        "from nltk.stem.porter import PorterStemmer\n",
        "import nltk\n",
        "nltk.download('wordnet')\n",
        "lem = WordNetLemmatizer()\n",
        "stem = PorterStemmer()\n",
        "word = \"mocking\"\n",
        "\n",
        "print(\"Lemmatized Word:\",lem.lemmatize(word,\"v\"))\n",
        "\n",
        "print(\"Stemmed Word:\",stem.stem(word))"
      ],
      "metadata": {
        "colab": {
          "base_uri": "https://localhost:8080/"
        },
        "id": "HfjdmsnCKJzN",
        "outputId": "26dda6e4-6440-4235-a833-28e6d150ab3d"
      },
      "execution_count": 44,
      "outputs": [
        {
          "output_type": "stream",
          "name": "stdout",
          "text": [
            "Lemmatized Word: mock\n",
            "Stemmed Word: mock\n"
          ]
        },
        {
          "output_type": "stream",
          "name": "stderr",
          "text": [
            "[nltk_data] Downloading package wordnet to /root/nltk_data...\n",
            "[nltk_data]   Package wordnet is already up-to-date!\n"
          ]
        }
      ]
    },
    {
      "cell_type": "markdown",
      "source": [
        "Parts of Speech Tagging"
      ],
      "metadata": {
        "id": "8_GOA9ZLNVlt"
      }
    },
    {
      "cell_type": "code",
      "source": [
        "from nltk.tokenize import word_tokenize\n",
        "from nltk import pos_tag\n",
        "import nltk\n",
        "nltk.download('averaged_perceptron_tagger')\n",
        "\n",
        "sent = \"\"\"Can you believe this fool, Dr. Thomas Frieden of CDC, just stated, \"anyone with fever should be aske...Uncomfortable looking NBC reporter Willie Geist calls me to ask for favors and then mockingly smiles...\"\"\"\n",
        "\n",
        "tokens=word_tokenize(sent)\n",
        "pos_=pos_tag(tokens)\n",
        "\n",
        "\n",
        "print(\"Tokens:\",tokens)\n",
        "print(\"PoS tags:\",pos_)"
      ],
      "metadata": {
        "colab": {
          "base_uri": "https://localhost:8080/"
        },
        "id": "vf6asRo0KmQ8",
        "outputId": "4f60f9a2-7c4a-4a11-d339-dcb8067380f1"
      },
      "execution_count": 45,
      "outputs": [
        {
          "output_type": "stream",
          "name": "stdout",
          "text": [
            "Tokens: ['Can', 'you', 'believe', 'this', 'fool', ',', 'Dr.', 'Thomas', 'Frieden', 'of', 'CDC', ',', 'just', 'stated', ',', '``', 'anyone', 'with', 'fever', 'should', 'be', 'aske', '...', 'Uncomfortable', 'looking', 'NBC', 'reporter', 'Willie', 'Geist', 'calls', 'me', 'to', 'ask', 'for', 'favors', 'and', 'then', 'mockingly', 'smiles', '...']\n",
            "PoS tags: [('Can', 'MD'), ('you', 'PRP'), ('believe', 'VB'), ('this', 'DT'), ('fool', 'NN'), (',', ','), ('Dr.', 'NNP'), ('Thomas', 'NNP'), ('Frieden', 'NNP'), ('of', 'IN'), ('CDC', 'NNP'), (',', ','), ('just', 'RB'), ('stated', 'VBN'), (',', ','), ('``', '``'), ('anyone', 'NN'), ('with', 'IN'), ('fever', 'NN'), ('should', 'MD'), ('be', 'VB'), ('aske', 'NNS'), ('...', ':'), ('Uncomfortable', 'JJ'), ('looking', 'VBG'), ('NBC', 'NNP'), ('reporter', 'NN'), ('Willie', 'NNP'), ('Geist', 'NNP'), ('calls', 'VBZ'), ('me', 'PRP'), ('to', 'TO'), ('ask', 'VB'), ('for', 'IN'), ('favors', 'NNS'), ('and', 'CC'), ('then', 'RB'), ('mockingly', 'RB'), ('smiles', 'NNS'), ('...', ':')]\n"
          ]
        },
        {
          "output_type": "stream",
          "name": "stderr",
          "text": [
            "[nltk_data] Downloading package averaged_perceptron_tagger to\n",
            "[nltk_data]     /root/nltk_data...\n",
            "[nltk_data]   Package averaged_perceptron_tagger is already up-to-\n",
            "[nltk_data]       date!\n"
          ]
        }
      ]
    },
    {
      "cell_type": "markdown",
      "source": [
        "Named Entity Recognition"
      ],
      "metadata": {
        "id": "JRlgtUQXNbL7"
      }
    },
    {
      "cell_type": "code",
      "source": [
        "from nltk import ne_chunk\n",
        "import nltk\n",
        "nltk.download('maxent_ne_chunker')\n",
        "nltk.download('words')\n",
        "sent=\"\"\"Can you believe this fool, Dr. Thomas Frieden of CDC, just stated, \"anyone with fever should be aske...Uncomfortable looking NBC reporter Willie Geist calls me to ask for favors and then mockingly smiles...\"\"\"\n",
        "\n",
        "for chunk in ne_chunk(nltk.pos_tag(word_tokenize(sent))):\n",
        "        if hasattr(chunk, 'label'):\n",
        "            print(chunk.label(), ' '.join(c[0] for c in chunk))"
      ],
      "metadata": {
        "colab": {
          "base_uri": "https://localhost:8080/"
        },
        "id": "-kseaCuFLC6m",
        "outputId": "507fad79-2886-4d22-8a30-ea50d99ad734"
      },
      "execution_count": 46,
      "outputs": [
        {
          "output_type": "stream",
          "name": "stdout",
          "text": [
            "PERSON Thomas Frieden\n",
            "ORGANIZATION CDC\n",
            "ORGANIZATION NBC\n",
            "PERSON Willie Geist\n"
          ]
        },
        {
          "output_type": "stream",
          "name": "stderr",
          "text": [
            "[nltk_data] Downloading package maxent_ne_chunker to\n",
            "[nltk_data]     /root/nltk_data...\n",
            "[nltk_data]   Package maxent_ne_chunker is already up-to-date!\n",
            "[nltk_data] Downloading package words to /root/nltk_data...\n",
            "[nltk_data]   Package words is already up-to-date!\n"
          ]
        }
      ]
    },
    {
      "cell_type": "markdown",
      "source": [
        "Website Scraping"
      ],
      "metadata": {
        "id": "DLzw8TlqRo1M"
      }
    },
    {
      "cell_type": "code",
      "source": [
        "import requests\n",
        "import nltk\n",
        "from bs4 import BeautifulSoup\n",
        "import numpy as np\n",
        "import pandas as pd\n",
        "import seaborn as sns\n",
        "import matplotlib.pyplot as plt\n",
        "%matplotlib inline\n",
        "import random\n",
        "from wordcloud import WordCloud\n",
        "import os\n",
        "import spacy\n",
        "nlp = spacy.load('en_core_web_sm')\n",
        "from textblob import TextBlob\n",
        "from pattern.en import sentiment"
      ],
      "metadata": {
        "id": "MNmftkKWRmmO"
      },
      "execution_count": 51,
      "outputs": []
    },
    {
      "cell_type": "code",
      "source": [
        "r=requests.get('https://www.newsy.com/stories/commercial-companies-advance-space-exploration/')\n",
        "r.encoding = 'utf-8'\n",
        "html = r.text\n",
        "print(html[:500])"
      ],
      "metadata": {
        "colab": {
          "base_uri": "https://localhost:8080/"
        },
        "id": "_dLI8PPfSoGN",
        "outputId": "880fe788-57dd-4ede-fc47-695f030f3071"
      },
      "execution_count": 56,
      "outputs": [
        {
          "output_type": "stream",
          "name": "stdout",
          "text": [
            "<!DOCTYPE html><html lang=\"en\"><head><!-- Google Analytics: GA4 --><script>var gtCode = 'G-D7R21VYTPB'; // live\n",
            "                    var gtScriptElement = document.createElement('script')\n",
            "                    gtScriptElement.src = `https://www.googletagmanager.com/gtag/js?id=${gtCode}&l=GA4DataLayer`;\n",
            "                    gtScriptElement.onload = OnceLoaded;\n",
            "                    document.getElementsByTagName('head')[0].appendChild(gtScriptElement);\n",
            "                    function OnceLoaded() {\n",
            "       \n"
          ]
        }
      ]
    },
    {
      "cell_type": "code",
      "source": [
        "soup = BeautifulSoup(html)\n",
        "text = soup.get_text()\n",
        "text= text.replace(\" \", \"\")\n",
        "text= text.replace(\"/\", \" \")\n",
        "text= ''.join([c for c in text if c != \"'\"])\n",
        "len(text)"
      ],
      "metadata": {
        "colab": {
          "base_uri": "https://localhost:8080/"
        },
        "id": "wtyA33TNS6Od",
        "outputId": "9deb9446-b8d5-4ee9-b0b6-0336f2f6588e"
      },
      "execution_count": 68,
      "outputs": [
        {
          "output_type": "execute_result",
          "data": {
            "text/plain": [
              "4163"
            ]
          },
          "metadata": {},
          "execution_count": 68
        }
      ]
    },
    {
      "cell_type": "code",
      "source": [
        "lines = text.split(' ')\n",
        "for line in lines:\n",
        "  print(line)"
      ],
      "metadata": {
        "colab": {
          "base_uri": "https://localhost:8080/"
        },
        "id": "oA7bv4eCS9A0",
        "outputId": "0c891c3e-2399-400b-844f-1d3d62103a8a"
      },
      "execution_count": 73,
      "outputs": [
        {
          "output_type": "stream",
          "name": "stdout",
          "text": [
            "CommercialCompaniesAdvanceSpaceExploration\n",
            "\n",
            "\n",
            "\n",
            "\n",
            "ScrippsNewswatchlivetogglemenuNewsU.S.NewsLifePoliticsBusinessScience\n",
            "HealthGoodNewsWorldTechEntertainmentSportsShowsScheduleShowListDocumentariesInRealLifeNextLevelBellingcatAllDocsInvestigationsAboutTeamViewerSpotlightHotlineSupportWatchLiveSearchFollowUs\n",
            "\n",
            "\n",
            "\n",
            "\n",
            "\n",
            "\n",
            "SpaceHowCommercialCompaniesAreAdvancingSpaceExplorationTherescompetitionamongroughlyadozenprivatecompaniestolaunchnewspacestations.HowCommercialCompaniesAreAdvancingSpaceExplorationNASAClaytonSandellBy ClaytonSandellFacebookShareTweetEmailSMSPosted:8:00p.m.EDTOct29,2021AsastronautsblastofftotheInternationalSpaceStationthisweekendonaSpaceXrocket,thecompanyisalsoshowingoffamassiveshipitsayswillonedaytaketravelersfar,faraway.NewlyreleasedvideoshowstheStarshipliftingintoanaerialballetofflipsandturnsbeforelandingagain.SpaceXhopestheshipwillreachorbitforthefirsttimenextmonthandmaybe,oneday,makefounderElonMusksmission-to-Marsdreamsareality.\"Hesays,IwanttodieonMars,justnotonimpact,\"editorforSpaceref.comKeithCowingsaid.\"IveknownElonforever,forlike20years.ImethimwhenhewasactuallyakidandIwasalotyoungerwithlessgrayhair.So,forhimtodothisdoesntsurpriseme.Hesalwaysjustbeenasawedbythisstuffasanybodyelse,whichIthinkiskindofimportantwhenyouretryingtodoaudaciousthings.\"Hypingtestfootageonsocialmediaandevenrocketblooperreels,liketheoneMuskonceposted,isapartofthemodernspacerace,whichisalotdifferentfromthewayNASAusedtodoit.\"Well,youknow,therestwodifferentapproacheshere,andquitefrankly,theSpaceXoneistheonethatproducescoolvideosthatmakeyoujustwanttowatchitagainandagain.NASAsdont,\"Cowingsaid.Theresalsocompetitionamongroughlyadozenprivatecompaniestolaunchnewspacestations,likethejust-announced\"OrbitalReef\"fromSierraSpaceandBlueOrigin,ownedbyJeffBezos.\"Thecurrentspacestation,IworkedonitwhenIwaskid,anditsgettingoldandlikeanything,yougottoreplaceit.AndNASAis,sortof,notreallywantingtogothroughthatwhole$100billionthingagain,buttheneedforsomethinglikethatisthere,\"Cowingsaid.\"So,justliketheyvestartedtousecommercialcarriersforcargotothespacestationandcrew,theyrelookingathopefullyspurringanindustrywhereoneormoreprivatespacestationsareinspacethatcandothethingsthatNASAwantsbutdoitinawaythattheycanthendostuffthattheprivatesectorwants.\"Whichiswhyspaceindustryexpertssay,donotcountNASAout.\"Sonow,hereweare—the21stcentury—doyouneedNASA?Yeah,youdo,\"Cowingsaid.\"Becausetheresalwaysacutting-edgethingthattheprivatesectorisgonnasay,Icantmakemoneyoffofthis.ButNASAsays,Well,maybein20years,youwill.Weregoingtoinvestdollarsinthisbecauseitcouldbeabreakthroughtechnology,ortheyjustgoandexplorethesolarsystemforthesheerbenefitofscience.\"Besidesmoney,spaceenthusiastssayNASA—withitssix-decadehistory–—stillhasaspecialabilitytodosomethingpriceless:inspireanewgenerationofexplorers.LatestinSpaceAtinyrobotcompletedthefirstremote-controlledsurgeryinspaceTherobot,spaceMIRA,dockedatthespacestationonFeb.1followingitslaunchaboardaSpaceXFalcon9rocketonJan.30.BudgetcutscauseNASAJPLlayoffs,MarsprogramfutureuncertainThelayoffsaffectaround530employeesacrosssupportareas,includingtechnicalstaff,plusabout40contractors.IsSaturnstinymoonMimashidinganundergroundocean?UsingdatagatheredfromtheCassiniprobe,astronomersconcludedMimasismorelikelytohavealiquidoceanthanarockycore.TopStoriesMajortechfirmsplantocombatAIelectionmisinformationAnupcomingaccordattheMunichSecurityConferenceinGermanycomesasmorethan50countriesareduetoholdnationalelectionsin2024.2:16HowcriminalsaremanipulatingAItotargetdatingappsIn2023,64,000peoplereportedaromancescam,andlossestofraudulentonlinesuitorshitastaggering$1.14billion.WhathappensnextintheimpeachmentprocessforSec.Mayorkas?FollowingtheHousevotetoimpeachAlejandroMayorkas,ScrippsNewslearnedthattheSenatesimpeachmenttrialwillbeginFeb.26.ScrippsNewsSiteNavigationHomeNewsInvestigationsDocumentariesShowsWheretowatchInformationTVScheduleChannelFinderAboutScrippsNewsContactUsCareersNewsletterPrivacy&TermsPrivacyPolicyTermsofUseLicensingJournalismEthicsGuidelinesPrivacyCenterConnectWithUs\n",
            "OnFacebook\n",
            "\n",
            "\n",
            "OnX\n",
            "Twitter\n",
            "OnYoutube\n",
            "OnInstagram\n",
            "onRSS\n",
            "OnFlipboardicon-\n",
            "OnLinkedinicon-\n",
            "ViaEmail©2024ScrippsNews,partofTheE.W.ScrippsCompany.AllRightsReserved.\n",
            "\n",
            "\n",
            "\n",
            "\n",
            "\n",
            "\n"
          ]
        }
      ]
    },
    {
      "cell_type": "markdown",
      "source": [
        "Conclusion/Outcome :-\n",
        "1. Identified the Text Analytics Libraries in Python and R\n",
        "2. Performed simple experiments with these libraries in Python and R"
      ],
      "metadata": {
        "id": "rh8RWlsWNhYN"
      }
    }
  ]
}