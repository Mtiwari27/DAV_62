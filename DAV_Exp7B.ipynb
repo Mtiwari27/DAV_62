{
  "nbformat": 4,
  "nbformat_minor": 0,
  "metadata": {
    "colab": {
      "provenance": [],
      "authorship_tag": "ABX9TyMnHs44LVn+6+guc22ONYyd",
      "include_colab_link": true
    },
    "kernelspec": {
      "name": "ir",
      "display_name": "R"
    },
    "language_info": {
      "name": "R"
    }
  },
  "cells": [
    {
      "cell_type": "markdown",
      "metadata": {
        "id": "view-in-github",
        "colab_type": "text"
      },
      "source": [
        "<a href=\"https://colab.research.google.com/github/Mtiwari27/DAV_62/blob/main/DAV_Exp7B.ipynb\" target=\"_parent\"><img src=\"https://colab.research.google.com/assets/colab-badge.svg\" alt=\"Open In Colab\"/></a>"
      ]
    },
    {
      "cell_type": "markdown",
      "source": [
        "Aim : Perform the steps involved in Text Analytics in Python & R"
      ],
      "metadata": {
        "id": "HNx7fUK7W_b_"
      }
    },
    {
      "cell_type": "markdown",
      "source": [
        "Sentence and Word Tokenization"
      ],
      "metadata": {
        "id": "0Ny87A_2ZMUF"
      }
    },
    {
      "cell_type": "code",
      "execution_count": 16,
      "metadata": {
        "id": "MUJjnXksELhd",
        "colab": {
          "base_uri": "https://localhost:8080/"
        },
        "outputId": "866a58d5-f8f0-4991-ee55-3e2dc9a2269a"
      },
      "outputs": [
        {
          "output_type": "stream",
          "name": "stdout",
          "text": [
            "[1] \"Tokenized Sentences :\"\n",
            "[[1]]\n",
            "[1] \"This is a sample sentence.\" \"Tokenize it into words.\"   \n",
            "\n",
            "[1] \"Tokenized Words :\"\n",
            "[[1]]\n",
            "[1] \"this\"     \"is\"       \"a\"        \"sample\"   \"sentence\" \"tokenize\" \"it\"      \n",
            "[8] \"into\"     \"words\"   \n",
            "\n"
          ]
        }
      ],
      "source": [
        "library(tokenizers)\n",
        "text <- \"This is a sample sentence. Tokenize it into words.\"\n",
        "sentences <- tokenize_sentences(text)\n",
        "words <- tokenize_words(text)\n",
        "print(\"Tokenized Sentences :\")\n",
        "print(sentences)\n",
        "print(\"Tokenized Words :\")\n",
        "print(words)"
      ]
    },
    {
      "cell_type": "markdown",
      "source": [
        "Frequency Distribution"
      ],
      "metadata": {
        "id": "cUyUDQf6ZS7V"
      }
    },
    {
      "cell_type": "code",
      "source": [
        "word_freq <- table(words)\n",
        "print(word_freq)"
      ],
      "metadata": {
        "id": "U-axK2kiZTWd",
        "colab": {
          "base_uri": "https://localhost:8080/"
        },
        "outputId": "2737b69b-b4db-4a8d-e4f4-5ec6e7eb9c56"
      },
      "execution_count": 18,
      "outputs": [
        {
          "output_type": "stream",
          "name": "stdout",
          "text": [
            "words\n",
            "       a     into       is       it   sample sentence     this tokenize \n",
            "       1        1        1        1        1        1        1        1 \n",
            "   words \n",
            "       1 \n"
          ]
        }
      ]
    },
    {
      "cell_type": "code",
      "source": [
        "barplot(word_freq, main = \"Word Frequency\", xlab = \"Words\", ylab = \"Frequency\")"
      ],
      "metadata": {
        "colab": {
          "base_uri": "https://localhost:8080/",
          "height": 437
        },
        "id": "YbNaswZK3vi8",
        "outputId": "1bd43c40-179d-4e3c-9a18-ee9f20ee28f3"
      },
      "execution_count": 20,
      "outputs": [
        {
          "output_type": "display_data",
          "data": {
            "text/plain": [
              "Plot with title “Word Frequency”"
            ],
            "image/png": "[encoded data removed]"
          },
          "metadata": {
            "image/png": {
              "width": 420,
              "height": 420
            }
          }
        }
      ]
    },
    {
      "cell_type": "markdown",
      "source": [
        "Removing Stopwords & Punctuations"
      ],
      "metadata": {
        "id": "0i3t_OjhZUSd"
      }
    },
    {
      "cell_type": "code",
      "source": [
        "install.packages(\"tm\")\n",
        "library(tm)\n",
        "clean_text <- removeWords(text, stopwords(\"english\"))\n",
        "clean_text <- removePunctuation(clean_text)\n",
        "print(clean_text)"
      ],
      "metadata": {
        "id": "6Im7Z0uiZUsl",
        "colab": {
          "base_uri": "https://localhost:8080/"
        },
        "outputId": "c89421ff-c43e-4bc5-bcf6-29fc685bcd03"
      },
      "execution_count": 22,
      "outputs": [
        {
          "output_type": "stream",
          "name": "stderr",
          "text": [
            "Installing package into ‘/usr/local/lib/R/site-library’\n",
            "(as ‘lib’ is unspecified)\n",
            "\n",
            "also installing the dependencies ‘NLP’, ‘slam’\n",
            "\n",
            "\n",
            "Loading required package: NLP\n",
            "\n",
            "\n",
            "Attaching package: ‘NLP’\n",
            "\n",
            "\n",
            "The following object is masked from ‘package:ggplot2’:\n",
            "\n",
            "    annotate\n",
            "\n",
            "\n"
          ]
        },
        {
          "output_type": "stream",
          "name": "stdout",
          "text": [
            "[1] \"This   sample sentence Tokenize   words\"\n"
          ]
        }
      ]
    },
    {
      "cell_type": "markdown",
      "source": [
        "Lexicon Normalization (Stemming, Lemmatization)"
      ],
      "metadata": {
        "id": "dbFUqiBYZVC8"
      }
    },
    {
      "cell_type": "code",
      "source": [
        "#Stemming\n",
        "library(SnowballC)\n",
        "stemmed_words <- wordStem(words)\n",
        "print(stemmed_words)"
      ],
      "metadata": {
        "id": "6SHJ-xm1ZVh0",
        "colab": {
          "base_uri": "https://localhost:8080/"
        },
        "outputId": "d3bb5255-ddef-4c2f-b3f9-6a3a05db1c39"
      },
      "execution_count": 25,
      "outputs": [
        {
          "output_type": "stream",
          "name": "stdout",
          "text": [
            "[1] \"c(\\\"this\\\", \\\"is\\\", \\\"a\\\", \\\"sample\\\", \\\"sentence\\\", \\\"tokenize\\\", \\\"it\\\", \\\"into\\\", \\\"words\\\")\"\n"
          ]
        }
      ]
    },
    {
      "cell_type": "code",
      "source": [
        "#Lemmatization\n",
        "install.packages(\"udpipe\")\n",
        "library(udpipe)\n",
        "ud_model <- udpipe_download_model(language = \"english\")\n",
        "ud_model <- udpipe_load_model(ud_model$file_model)\n",
        "annotations <- udpipe_annotate(ud_model, x = text)\n",
        "lemmas <- as.data.frame(annotations)$lemma\n",
        "print(lemmas)"
      ],
      "metadata": {
        "colab": {
          "base_uri": "https://localhost:8080/"
        },
        "id": "kl3fuBJ95WZZ",
        "outputId": "d5737ac9-12fe-4a30-b2b9-586beff42c0c"
      },
      "execution_count": 28,
      "outputs": [
        {
          "output_type": "stream",
          "name": "stderr",
          "text": [
            "Installing package into ‘/usr/local/lib/R/site-library’\n",
            "(as ‘lib’ is unspecified)\n",
            "\n",
            "Warning message in install.packages(\"udpipe\"):\n",
            "“installation of package ‘udpipe’ had non-zero exit status”\n",
            "Downloading udpipe model from https://raw.githubusercontent.com/jwijffels/udpipe.models.ud.2.5/master/inst/udpipe-ud-2.5-191206/english-ewt-ud-2.5-191206.udpipe to /content/english-ewt-ud-2.5-191206.udpipe\n",
            "\n",
            " - This model has been trained on version 2.5 of data from https://universaldependencies.org\n",
            "\n",
            " - The model is distributed under the CC-BY-SA-NC license: https://creativecommons.org/licenses/by-nc-sa/4.0\n",
            "\n",
            " - Visit https://github.com/jwijffels/udpipe.models.ud.2.5 for model license details.\n",
            "\n",
            " - For a list of all models and their licenses (most models you can download with this package have either a CC-BY-SA or a CC-BY-SA-NC license) read the documentation at ?udpipe_download_model. For building your own models: visit the documentation by typing vignette('udpipe-train', package = 'udpipe')\n",
            "\n",
            "Downloading finished, model stored at '/content/english-ewt-ud-2.5-191206.udpipe'\n",
            "\n"
          ]
        },
        {
          "output_type": "stream",
          "name": "stdout",
          "text": [
            " [1] \"this\"     \"be\"       \"a\"        \"sample\"   \"sentence\" \".\"       \n",
            " [7] \"Tokenize\" \"it\"       \"into\"     \"word\"     \".\"       \n"
          ]
        }
      ]
    },
    {
      "cell_type": "markdown",
      "source": [
        "Part of Speech tagging"
      ],
      "metadata": {
        "id": "L3tX0Y3UZWCk"
      }
    },
    {
      "cell_type": "code",
      "source": [
        "parsed <- udpipe_annotate(ud_model, x = text)\n",
        "\n",
        "# Extract part-of-speech tags\n",
        "pos_tags <- as.data.frame(parsed)$upos\n",
        "\n",
        "# Print the part-of-speech tags\n",
        "print(pos_tags)"
      ],
      "metadata": {
        "id": "iK6D-whyZWYO",
        "colab": {
          "base_uri": "https://localhost:8080/"
        },
        "outputId": "ed3afb32-83d4-4232-e60f-525d376f70d7"
      },
      "execution_count": 38,
      "outputs": [
        {
          "output_type": "stream",
          "name": "stdout",
          "text": [
            " [1] \"PRON\"  \"AUX\"   \"DET\"   \"NOUN\"  \"NOUN\"  \"PUNCT\" \"VERB\"  \"PRON\"  \"ADP\"  \n",
            "[10] \"NOUN\"  \"PUNCT\"\n"
          ]
        }
      ]
    },
    {
      "cell_type": "markdown",
      "source": [
        "Named Entity Recognization"
      ],
      "metadata": {
        "id": "dCb301hmZpO8"
      }
    },
    {
      "cell_type": "code",
      "source": [
        "annotations <- udpipe_annotate(ud_model, x = text)\n",
        "\n",
        "ner_tags <- as.data.frame(annotations)$entity\n",
        "print(ner_tags)"
      ],
      "metadata": {
        "id": "GsSeb_YlZqI9",
        "colab": {
          "base_uri": "https://localhost:8080/"
        },
        "outputId": "f308ac21-e765-4598-ad67-34e9e89acae8"
      },
      "execution_count": 41,
      "outputs": [
        {
          "output_type": "stream",
          "name": "stdout",
          "text": [
            "NULL\n"
          ]
        }
      ]
    },
    {
      "cell_type": "markdown",
      "source": [
        "Scrape data from website"
      ],
      "metadata": {
        "id": "a_42ITcCZqil"
      }
    },
    {
      "cell_type": "code",
      "source": [
        "library(rvest)\n",
        "webpage <- read_html(\"https://www.webbie.org.uk/support.htm\")\n",
        "text <- html_text(webpage)\n",
        "cat(text)"
      ],
      "metadata": {
        "colab": {
          "base_uri": "https://localhost:8080/"
        },
        "id": "096F_34t7SsI",
        "outputId": "749c3008-d82a-4e3f-c746-6f8eff2433fa"
      },
      "execution_count": 55,
      "outputs": [
        {
          "output_type": "stream",
          "name": "stdout",
          "text": [
            "Support for WebbIE and the Accessible programs\n",
            "\n",
            "\n",
            "WebbIE\n",
            "\n",
            "\n",
            "\n",
            "\n",
            "\n",
            "\n",
            "\n",
            "\n",
            "\n",
            "\n",
            "\n",
            "downloadcontactsupportdocumentationblog\n",
            "\n",
            "\n",
            "Support\n",
            "\n",
            "WebbIE and the Accessible programs are designed to be easy to use, so I hope you do not have too much trouble with them! Of course, things can go wrong, and questions do pop up. Check out some of the helpful pages below, or try Contacting WebbIE support.\n",
            "\n",
            "You should also check out these general tips:\n",
            "Update Windows - you should have the latest patches and service packs for Windows installed. Old versions won't work properly. I leave Windows to update automatically, and unless your screenreader manufacturer tells you not to, you should too. Top tip: leave your computer on overnight once a week, Windows will sort itself out.\n",
            "Switch to Microsoft Security Essentials for your antivirus and Windows Firewall for your firewall. They are free, they come built into Windows, and Alasdair King uses them so the programs work fine with them. Fake virus warnings and firewall problems are the biggest source of problems with the WebbIE programs. \n",
            "Make sure your system clock is set to the correct time and date. Several programs - BBC iPlayer Radio, BBC iPlayer TV, Calendar and Clock - will fail if you don't have the correct time and date set.\n",
            "\n",
            "Specific articles\n",
            "\n",
            "Turning off scripting errors in Internet Explorer and WebbIE programs.\n",
            "Bugs and issues with the latest version of WebbIE\n",
            "Frequently-Asked Questions (FAQ) for WebbIE\n",
            "\n",
            "Getting WebbIE to work with a firewall (ZoneAlarm or Norton Personal Firewall)\n",
            "RealPlayer is no longer used in any WebbIE software. For reference, here is an old support page on RealPlayer: RealPlayer and Real Alternative.\n",
            "\n",
            "\n",
            "\n",
            "\n",
            "\n"
          ]
        }
      ]
    },
    {
      "cell_type": "markdown",
      "source": [
        "Conclusion/Outcome :-\n",
        "1. Identified the Text Analytics Libraries in Python and R\n",
        "2. Performed simple experiments with these libraries in Python and R"
      ],
      "metadata": {
        "id": "yIhveBjjXBwk"
      }
    }
  ]
}