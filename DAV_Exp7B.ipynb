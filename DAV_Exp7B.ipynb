{
  "nbformat": 4,
  "nbformat_minor": 0,
  "metadata": {
    "colab": {
      "provenance": [],
      "authorship_tag": "ABX9TyOc2mze2W25ALwpuMtdKDWZ",
      "include_colab_link": true
    },
    "kernelspec": {
      "name": "ir",
      "display_name": "R"
    },
    "language_info": {
      "name": "R"
    }
  },
  "cells": [
    {
      "cell_type": "markdown",
      "metadata": {
        "id": "view-in-github",
        "colab_type": "text"
      },
      "source": [
        "<a href=\"https://colab.research.google.com/github/Mtiwari27/DAV_62/blob/main/DAV_Exp7B.ipynb\" target=\"_parent\"><img src=\"https://colab.research.google.com/assets/colab-badge.svg\" alt=\"Open In Colab\"/></a>"
      ]
    },
    {
      "cell_type": "markdown",
      "source": [
        "Aim : Perform the steps involved in Text Analytics in Python & R"
      ],
      "metadata": {
        "id": "HNx7fUK7W_b_"
      }
    },
    {
      "cell_type": "markdown",
      "source": [
        "Sentence and Word Tokenization"
      ],
      "metadata": {
        "id": "0Ny87A_2ZMUF"
      }
    },
    {
      "cell_type": "code",
      "execution_count": 16,
      "metadata": {
        "id": "MUJjnXksELhd",
        "colab": {
          "base_uri": "https://localhost:8080/"
        },
        "outputId": "866a58d5-f8f0-4991-ee55-3e2dc9a2269a"
      },
      "outputs": [
        {
          "output_type": "stream",
          "name": "stdout",
          "text": [
            "[1] \"Tokenized Sentences :\"\n",
            "[[1]]\n",
            "[1] \"This is a sample sentence.\" \"Tokenize it into words.\"   \n",
            "\n",
            "[1] \"Tokenized Words :\"\n",
            "[[1]]\n",
            "[1] \"this\"     \"is\"       \"a\"        \"sample\"   \"sentence\" \"tokenize\" \"it\"      \n",
            "[8] \"into\"     \"words\"   \n",
            "\n"
          ]
        }
      ],
      "source": [
        "library(tokenizers)\n",
        "text <- \"This is a sample sentence. Tokenize it into words.\"\n",
        "sentences <- tokenize_sentences(text)\n",
        "words <- tokenize_words(text)\n",
        "print(\"Tokenized Sentences :\")\n",
        "print(sentences)\n",
        "print(\"Tokenized Words :\")\n",
        "print(words)"
      ]
    },
    {
      "cell_type": "markdown",
      "source": [
        "Frequency Distribution"
      ],
      "metadata": {
        "id": "cUyUDQf6ZS7V"
      }
    },
    {
      "cell_type": "code",
      "source": [
        "word_freq <- table(words)\n",
        "print(word_freq)"
      ],
      "metadata": {
        "id": "U-axK2kiZTWd",
        "colab": {
          "base_uri": "https://localhost:8080/"
        },
        "outputId": "2737b69b-b4db-4a8d-e4f4-5ec6e7eb9c56"
      },
      "execution_count": 18,
      "outputs": [
        {
          "output_type": "stream",
          "name": "stdout",
          "text": [
            "words\n",
            "       a     into       is       it   sample sentence     this tokenize \n",
            "       1        1        1        1        1        1        1        1 \n",
            "   words \n",
            "       1 \n"
          ]
        }
      ]
    },
    {
      "cell_type": "code",
      "source": [
        "barplot(word_freq, main = \"Word Frequency\", xlab = \"Words\", ylab = \"Frequency\")"
      ],
      "metadata": {
        "colab": {
          "base_uri": "https://localhost:8080/",
          "height": 437
        },
        "id": "YbNaswZK3vi8",
        "outputId": "1bd43c40-179d-4e3c-9a18-ee9f20ee28f3"
      },
      "execution_count": 20,
      "outputs": [
        {
          "output_type": "display_data",
          "data": {
            "text/plain": [
              "Plot with title “Word Frequency”"
            ],
            "image/png": "[encoded data removed]"
          },
          "metadata": {
            "image/png": {
              "width": 420,
              "height": 420
            }
          }
        }
      ]
    },
    {
      "cell_type": "markdown",
      "source": [
        "Removing Stopwords & Punctuations"
      ],
      "metadata": {
        "id": "0i3t_OjhZUSd"
      }
    },
    {
      "cell_type": "code",
      "source": [
        "install.packages(\"tm\")\n",
        "library(tm)\n",
        "clean_text <- removeWords(text, stopwords(\"english\"))\n",
        "clean_text <- removePunctuation(clean_text)\n",
        "print(clean_text)"
      ],
      "metadata": {
        "id": "6Im7Z0uiZUsl",
        "colab": {
          "base_uri": "https://localhost:8080/"
        },
        "outputId": "c89421ff-c43e-4bc5-bcf6-29fc685bcd03"
      },
      "execution_count": 22,
      "outputs": [
        {
          "output_type": "stream",
          "name": "stderr",
          "text": [
            "Installing package into ‘/usr/local/lib/R/site-library’\n",
            "(as ‘lib’ is unspecified)\n",
            "\n",
            "also installing the dependencies ‘NLP’, ‘slam’\n",
            "\n",
            "\n",
            "Loading required package: NLP\n",
            "\n",
            "\n",
            "Attaching package: ‘NLP’\n",
            "\n",
            "\n",
            "The following object is masked from ‘package:ggplot2’:\n",
            "\n",
            "    annotate\n",
            "\n",
            "\n"
          ]
        },
        {
          "output_type": "stream",
          "name": "stdout",
          "text": [
            "[1] \"This   sample sentence Tokenize   words\"\n"
          ]
        }
      ]
    },
    {
      "cell_type": "markdown",
      "source": [
        "Lexicon Normalization (Stemming, Lemmatization)"
      ],
      "metadata": {
        "id": "dbFUqiBYZVC8"
      }
    },
    {
      "cell_type": "code",
      "source": [
        "#Stemming\n",
        "library(SnowballC)\n",
        "stemmed_words <- wordStem(words)\n",
        "print(stemmed_words)"
      ],
      "metadata": {
        "id": "6SHJ-xm1ZVh0",
        "colab": {
          "base_uri": "https://localhost:8080/"
        },
        "outputId": "d3bb5255-ddef-4c2f-b3f9-6a3a05db1c39"
      },
      "execution_count": 25,
      "outputs": [
        {
          "output_type": "stream",
          "name": "stdout",
          "text": [
            "[1] \"c(\\\"this\\\", \\\"is\\\", \\\"a\\\", \\\"sample\\\", \\\"sentence\\\", \\\"tokenize\\\", \\\"it\\\", \\\"into\\\", \\\"words\\\")\"\n"
          ]
        }
      ]
    },
    {
      "cell_type": "code",
      "source": [
        "#Lemmatization\n",
        "install.packages(\"udpipe\")\n",
        "library(udpipe)\n",
        "ud_model <- udpipe_download_model(language = \"english\")\n",
        "ud_model <- udpipe_load_model(ud_model$file_model)\n",
        "annotations <- udpipe_annotate(ud_model, x = text)\n",
        "lemmas <- as.data.frame(annotations)$lemma\n",
        "print(lemmas)"
      ],
      "metadata": {
        "colab": {
          "base_uri": "https://localhost:8080/"
        },
        "id": "kl3fuBJ95WZZ",
        "outputId": "d5737ac9-12fe-4a30-b2b9-586beff42c0c"
      },
      "execution_count": 28,
      "outputs": [
        {
          "output_type": "stream",
          "name": "stderr",
          "text": [
            "Installing package into ‘/usr/local/lib/R/site-library’\n",
            "(as ‘lib’ is unspecified)\n",
            "\n",
            "Warning message in install.packages(\"udpipe\"):\n",
            "“installation of package ‘udpipe’ had non-zero exit status”\n",
            "Downloading udpipe model from https://raw.githubusercontent.com/jwijffels/udpipe.models.ud.2.5/master/inst/udpipe-ud-2.5-191206/english-ewt-ud-2.5-191206.udpipe to /content/english-ewt-ud-2.5-191206.udpipe\n",
            "\n",
            " - This model has been trained on version 2.5 of data from https://universaldependencies.org\n",
            "\n",
            " - The model is distributed under the CC-BY-SA-NC license: https://creativecommons.org/licenses/by-nc-sa/4.0\n",
            "\n",
            " - Visit https://github.com/jwijffels/udpipe.models.ud.2.5 for model license details.\n",
            "\n",
            " - For a list of all models and their licenses (most models you can download with this package have either a CC-BY-SA or a CC-BY-SA-NC license) read the documentation at ?udpipe_download_model. For building your own models: visit the documentation by typing vignette('udpipe-train', package = 'udpipe')\n",
            "\n",
            "Downloading finished, model stored at '/content/english-ewt-ud-2.5-191206.udpipe'\n",
            "\n"
          ]
        },
        {
          "output_type": "stream",
          "name": "stdout",
          "text": [
            " [1] \"this\"     \"be\"       \"a\"        \"sample\"   \"sentence\" \".\"       \n",
            " [7] \"Tokenize\" \"it\"       \"into\"     \"word\"     \".\"       \n"
          ]
        }
      ]
    },
    {
      "cell_type": "markdown",
      "source": [
        "Part of Speech tagging"
      ],
      "metadata": {
        "id": "L3tX0Y3UZWCk"
      }
    },
    {
      "cell_type": "code",
      "source": [
        "parsed <- udpipe_annotate(ud_model, x = text)\n",
        "\n",
        "# Extract part-of-speech tags\n",
        "pos_tags <- as.data.frame(parsed)$upos\n",
        "\n",
        "# Print the part-of-speech tags\n",
        "print(pos_tags)"
      ],
      "metadata": {
        "id": "iK6D-whyZWYO",
        "colab": {
          "base_uri": "https://localhost:8080/"
        },
        "outputId": "ed3afb32-83d4-4232-e60f-525d376f70d7"
      },
      "execution_count": 38,
      "outputs": [
        {
          "output_type": "stream",
          "name": "stdout",
          "text": [
            " [1] \"PRON\"  \"AUX\"   \"DET\"   \"NOUN\"  \"NOUN\"  \"PUNCT\" \"VERB\"  \"PRON\"  \"ADP\"  \n",
            "[10] \"NOUN\"  \"PUNCT\"\n"
          ]
        }
      ]
    },
    {
      "cell_type": "markdown",
      "source": [
        "Named Entity Recognization"
      ],
      "metadata": {
        "id": "dCb301hmZpO8"
      }
    },
    {
      "cell_type": "code",
      "source": [
        "annotations <- udpipe_annotate(ud_model, x = text)\n",
        "\n",
        "ner_tags <- as.data.frame(annotations)$entity\n",
        "print(ner_tags)"
      ],
      "metadata": {
        "id": "GsSeb_YlZqI9",
        "colab": {
          "base_uri": "https://localhost:8080/"
        },
        "outputId": "f308ac21-e765-4598-ad67-34e9e89acae8"
      },
      "execution_count": 41,
      "outputs": [
        {
          "output_type": "stream",
          "name": "stdout",
          "text": [
            "NULL\n"
          ]
        }
      ]
    },
    {
      "cell_type": "markdown",
      "source": [
        "Scrape data from website"
      ],
      "metadata": {
        "id": "a_42ITcCZqil"
      }
    },
    {
      "cell_type": "code",
      "source": [
        "library(rvest)\n",
        "webpage <- read_html(\"https://www.webbie.org.uk/webbrowser/index.htm\")\n",
        "text <- html_text(webpage)\n",
        "cat(text)"
      ],
      "metadata": {
        "colab": {
          "base_uri": "https://localhost:8080/"
        },
        "id": "096F_34t7SsI",
        "outputId": "b0611f75-457c-4ead-8362-ecc25508feaf"
      },
      "execution_count": 53,
      "outputs": [
        {
          "output_type": "stream",
          "name": "stdout",
          "text": [
            "WebbIE Web Browser - browse the web using only text\n",
            "\n",
            "\n",
            "WebbIE\n",
            "\n",
            "\n",
            "\n",
            "\n",
            "\n",
            "\n",
            "\n",
            "downloadcontactsupportabout\n",
            "WebbIE Web Browser\n",
            "WebbIE lets you browse web pages, search the web, fill in forms, do ecommerce, and use online email, all in a highly-usable text-only display that works with any screenreader.\n",
            "\n",
            "\n",
            "Getting WebbIE\n",
            "WebbIE is free. You can get it from the link below. You have to run the MSI file that you get from the link, and everything will be installed for you. You will then have a desktop shortcut called \"WebbIE\" you can use to start the program. You can also find \"WebbIE\" in your Start menu.\n",
            "Installer for WebbIE Web Browser Run this setup MSI file to install WebbIE Web Browser.\n",
            "Features\n",
            "\n",
            "\n",
            "Shows web pages as plain text so you can simply cursor around the page like you would a Word document. Much simpler than navigating complex tree-like web pages using a standard web browser.\n",
            "Easy Google web search: enter your search, press return, and just cursor up and down the results. Fast and simple.\n",
            "Support for forms, so you can use eCommerce and online shops and online email like GMail.\n",
            "Jump quickly to headings and navigate around with single keystrokes.\n",
            "List links on a page and cursor around them to find out where you can go.\n",
            "Quickly crop out the rubbish at the top of a page and scattered around the page, so you can get on with reading the page content without having to spend time finding it.\n",
            "Access and add to your Internet Explorer Favorites.\n",
            "Works with any screenreader, including NVDA, Thunder, JAWS, WindowEyes, Hal, and the built-in Windows Narrator.\n",
            "Change font size and font so you can make text big and readable for you.\n",
            "Uses system colours so you can select yellow-on-black and high visibility schemes for maximum readability.\n",
            "Handles Javascript and HTML5 features so the latest web pages have a chance of working.\n",
            "Fully translated into a dozen languages and displays web pages written in any language.\n",
            "Open RSS News Feeds for sites so you can quickly skip to the page you want.\n",
            "Technical Details\n",
            "You need to be on Windows XP Service Pack 3, Windows Vista Service Pack 2, Windows 7 Service Pack 1, Windows 8/8.1, or Windows 10. 32- or 64-bit versions are all supported. Windows Rt is not supported.\n",
            "The Microsoft .Net Framework 4 Client Version is required, but the installer should take care of all of that for you.\n",
            "\n",
            "It's signed by Claro Software Ltd - thanks for their support.\n",
            "If you need help, call me on +44 7983 244 131 or Skype me on Alasdairking. You can email support@webbie.org.uk but you're unlikely to get a response: this isn't my day job!\n",
            "Version History\n",
            "5.1.0 23 December 2021\n",
            "Fixed Google web search not working.\n",
            "Added a \"simplify navigation\" option (on by default) which should make loading pages faster - but might mean some pages do not work. \n",
            "Updated to .NET Framework 4.8.\n",
            "5.0.0 22 December 2018\n",
            "Fixed Google web search not working.\n",
            "Also doesn't have an EV code signing certificate, because I got my company to do it but it's a pain. Sorry!\n",
            "4.5.2 10 December 2016\n",
            "You should find that some pages that have not been loading properly, or input buttons that did not work, now work correctly.\n",
            "4.5.1 6 April 2016\n",
            "Fixed Windows Narrator losing focus on the text display area and improved navigation speed.\n",
            "4.5.0 23 December 2014\n",
            "Added ability to download/open VIDEO and AUDIO HTML5 elements directly in your\n",
            "default media player: just hit Open. Doesn't work with embedded data URI elements.\n",
            "Shortcut keys for media play: Ctrl+P play, Ctrl+O open, Space stop.\n",
            "Fixed case-sensitive urls not working when typed into address bar.\n",
            "If you hold Control while clicking Refresh, or Shift while selecting Ctrl+R, \n",
            "then you get a full page refresh in the web browser. (Previously you couldn't\n",
            "get a full browser refresh, just WebbIE re-displaying)\n",
            "Can now open saved MHT files from File > Open.\n",
            "Added TeamViewer download link.\n",
            "4.4.1 6 June 2014\n",
            "Fixed bug with many input buttons not working.\n",
            "4.4.0 2 March 2014\n",
            "Fixed a bug with making WebbIE default browser: should now work.\n",
            "Fixed font and appearance for text view, select forms.\n",
            "Added colour dialog option to set foreground/background colours.\n",
            "Now uses IE11 rendering.\n",
            "Made most forms maximised.\n",
            "4.3.6 23 Feb 2014\n",
            "Fixed a link text bug, should label links better.\n",
            "Fixed a focus problem with youtube.com.\n",
            "Fixed a \"finished navigation\" problem with youtube.com.\n",
            "No longer lets you change disabled text inputs etc.\n",
            "Made manufacturer \"Accessible and WebbIE\"\n",
            "Added online activation\n",
            "Updated updater DLL\n",
            "4.3.3  7 May 2013\n",
            "Put in comprehensive error handling. This means that users should never see any error messages unless there is a comprehensive Windows system crash. Instead, things will just not work or work oddly. This is to increase confidence for users: ideally they get an error message which would help them to fix it, or report it to me to get fixed. However, this generally doesn't work as a process. \n",
            "Made \"show IE homepage\" the default again because of negative feedback.\n",
            "Made \"localhost\" work as URL.\n",
            "Added support for aria-label and aria-labelledby (found on Facebook)\n",
            "4.3.4  7 June 2013 Made about:blank load faster.\n",
            "Fixed textarea input so it works(!)\n",
            "Made textarea not label with Name, because that's code and sucks.\n",
            "Made text notruntogether on Facebook.\n",
            "4.3.5 14 June 2013 Settings now update from one version to the next.\n",
            "Defaults to Maximimised window state.\n",
            "Won't check for updates more than once a day.\n",
            "4.3.1 28 March 2013\n",
            "Speeded up program start time.\n",
            "Bugfixes: hiding the toolbar now works.\n",
            "4.3.0 26 Feb 2013\n",
            "Added support for HTML5 \"main\" element when cropping.\n",
            "Added support for HTML5 input type \"email\"\n",
            "Added support for HTML5 input type \"range\"\n",
            "Added support for HTML5 \"progress\" element\n",
            "Added back in the ability to number links in WebbIE (off by default: find it in the Options menu)\n",
            "Bugfixes: fixed uncrop crash, fixed toolbar not hiding/showing, improved labelling of controls: many more controls will have working labels.\n",
            "4.2.0 17 Feb 2013\n",
            "Added Favorites window on B (or Ctrl+B) that shows all your favourites in a treeview window. There are now three ways to get at your favourites: the menu, the home page, and the popup window. I like the last best, but there's no reason to drop the others as yet. I should get rid of the home page, but someone wrote to say they love it, so I don't want to!\n",
            "Made Print print the web page, not the text area. This lets you print copies of pages like bank details or ticket bookings correctly, with all the images and layout that people are going to expect to see. \n",
            "Now a choice for home page: the IE home page, or the WebbIE home page (default)\n",
            "4.1.0 6 Feb 2013\n",
            "Removed Save Image function, since no-one used it.\n",
            "Removed the special home page from favourites, since you can't zip down it as in a list, and it confused people.\n",
            "Put Ctrl+I to show the web page back in to help people who must view the web page for some sites.\n",
            "Removed Launch Internet Explorer since Ctrl+I makes it redundant.\n",
            "Fixed WebbIE 4 shortcut going in \"Alasdair King\" folder in Start menu on Windows XP to 7\n",
            "4.0.11 24 Jan 2013\n",
            "First shipping release.\n",
            "Old versions\n",
            "\n",
            "Old product page.\n",
            "Technical notes\n",
            "\n",
            "The WebbIE Web Browser renders web pages as plain text then adds in some features to let users search Google, find the content of interest on the page and get RSS quickly. \n",
            "\n",
            "The idea is that the task profile for screenreader users is similar to that of sighted users. That is, it's fast and efficient for users to get to the text they want in a page. This means that absolute fidelity to every chunk of content on the page takes second place to usefulness. For example, images that aren't A element children don't render, whether or not the IMG element has an alt tag, because they usually don't add any value in terms of information content. Every line that a screenreader user must encounter slows them down. The lines that are there must all count.\n",
            "\n",
            "Internally WebbIE uses the Microsoft WebBrowser control. This gets the web content and provides the HTML DOM to WebbIE: WebbIE parses the DOM into text. (Actually, it uses both the W3C HTML DOM and the DHTML DOM, depending on what needs doing.) \n",
            "\n",
            "WebbIE versions up to 3.X were all written in Visual Basic 6, which is a wonderfully productive language but dates from 1998 so gradually became harder to support. WebbIE 4 is built with VB.Net.\n",
            "\n",
            "Source Code\n",
            "\n",
            "GitHub repository\n",
            "\n",
            "\n"
          ]
        }
      ]
    },
    {
      "cell_type": "markdown",
      "source": [
        "Conclusion/Outcome :-\n",
        "1. Identified the Text Analytics Libraries in Python and R\n",
        "2. Performed simple experiments with these libraries in Python and R"
      ],
      "metadata": {
        "id": "yIhveBjjXBwk"
      }
    }
  ]
}