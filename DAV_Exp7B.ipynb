{
  "nbformat": 4,
  "nbformat_minor": 0,
  "metadata": {
    "colab": {
      "provenance": [],
      "authorship_tag": "ABX9TyO1993pwsvI1YcEVVFohl+J",
      "include_colab_link": true
    },
    "kernelspec": {
      "name": "ir",
      "display_name": "R"
    },
    "language_info": {
      "name": "R"
    }
  },
  "cells": [
    {
      "cell_type": "markdown",
      "metadata": {
        "id": "view-in-github",
        "colab_type": "text"
      },
      "source": [
        "<a href=\"https://colab.research.google.com/github/Mtiwari27/DAV_62/blob/main/DAV_Exp7B.ipynb\" target=\"_parent\"><img src=\"https://colab.research.google.com/assets/colab-badge.svg\" alt=\"Open In Colab\"/></a>"
      ]
    },
    {
      "cell_type": "markdown",
      "source": [
        "Aim : Perform the steps involved in Text Analytics in Python & R"
      ],
      "metadata": {
        "id": "HNx7fUK7W_b_"
      }
    },
    {
      "cell_type": "markdown",
      "source": [
        "Sentence and Word Tokenization"
      ],
      "metadata": {
        "id": "0Ny87A_2ZMUF"
      }
    },
    {
      "cell_type": "code",
      "execution_count": 56,
      "metadata": {
        "id": "MUJjnXksELhd",
        "colab": {
          "base_uri": "https://localhost:8080/"
        },
        "outputId": "df8b6286-b420-496c-e11c-947ffd76e23c"
      },
      "outputs": [
        {
          "output_type": "stream",
          "name": "stdout",
          "text": [
            "[1] \"Tokenized Sentences :\"\n",
            "[[1]]\n",
            "[1] \"Judith Jarvis Thompson is the best philosopher of all time.\"\n",
            "\n",
            "[1] \"Tokenized Words :\"\n",
            "[[1]]\n",
            " [1] \"judith\"      \"jarvis\"      \"thompson\"    \"is\"          \"the\"        \n",
            " [6] \"best\"        \"philosopher\" \"of\"          \"all\"         \"time\"       \n",
            "\n"
          ]
        }
      ],
      "source": [
        "library(tokenizers)\n",
        "text <- \"Judith Jarvis Thompson is the best philosopher of all time.\"\n",
        "sentences <- tokenize_sentences(text)\n",
        "words <- tokenize_words(text)\n",
        "print(\"Tokenized Sentences :\")\n",
        "print(sentences)\n",
        "print(\"Tokenized Words :\")\n",
        "print(words)"
      ]
    },
    {
      "cell_type": "markdown",
      "source": [
        "Frequency Distribution"
      ],
      "metadata": {
        "id": "cUyUDQf6ZS7V"
      }
    },
    {
      "cell_type": "code",
      "source": [
        "word_freq <- table(words)\n",
        "print(word_freq)"
      ],
      "metadata": {
        "id": "U-axK2kiZTWd",
        "colab": {
          "base_uri": "https://localhost:8080/"
        },
        "outputId": "68cd01c6-04a8-49ba-934d-9fa3e4708022"
      },
      "execution_count": 57,
      "outputs": [
        {
          "output_type": "stream",
          "name": "stdout",
          "text": [
            "words\n",
            "        all        best          is      jarvis      judith          of \n",
            "          1           1           1           1           1           1 \n",
            "philosopher         the    thompson        time \n",
            "          1           1           1           1 \n"
          ]
        }
      ]
    },
    {
      "cell_type": "code",
      "source": [
        "barplot(word_freq, main = \"Word Frequency\", xlab = \"Words\", ylab = \"Frequency\")"
      ],
      "metadata": {
        "colab": {
          "base_uri": "https://localhost:8080/",
          "height": 437
        },
        "id": "YbNaswZK3vi8",
        "outputId": "32a3efc8-e917-4061-f894-14df59ecf5e0"
      },
      "execution_count": 58,
      "outputs": [
        {
          "output_type": "display_data",
          "data": {
            "text/plain": [
              "Plot with title “Word Frequency”"
            ],
            "image/png": "[encoded data removed]"
          },
          "metadata": {
            "image/png": {
              "width": 420,
              "height": 420
            }
          }
        }
      ]
    },
    {
      "cell_type": "markdown",
      "source": [
        "Removing Stopwords & Punctuations"
      ],
      "metadata": {
        "id": "0i3t_OjhZUSd"
      }
    },
    {
      "cell_type": "code",
      "source": [
        "library(tm)\n",
        "clean_text <- removeWords(text, stopwords(\"english\"))\n",
        "clean_text <- removePunctuation(clean_text)\n",
        "print(clean_text)"
      ],
      "metadata": {
        "id": "6Im7Z0uiZUsl",
        "colab": {
          "base_uri": "https://localhost:8080/"
        },
        "outputId": "0496694e-d128-4c67-922e-ced4dee8e700"
      },
      "execution_count": 60,
      "outputs": [
        {
          "output_type": "stream",
          "name": "stdout",
          "text": [
            "[1] \"Judith Jarvis Thompson   best philosopher   time\"\n"
          ]
        }
      ]
    },
    {
      "cell_type": "markdown",
      "source": [
        "Lexicon Normalization (Stemming, Lemmatization)"
      ],
      "metadata": {
        "id": "dbFUqiBYZVC8"
      }
    },
    {
      "cell_type": "code",
      "source": [
        "#Stemming\n",
        "library(SnowballC)\n",
        "stemmed_words <- wordStem(words)\n",
        "print(stemmed_words)"
      ],
      "metadata": {
        "id": "6SHJ-xm1ZVh0",
        "colab": {
          "base_uri": "https://localhost:8080/"
        },
        "outputId": "32c5bce3-ff8b-4303-c22e-1e0ca81d320b"
      },
      "execution_count": 61,
      "outputs": [
        {
          "output_type": "stream",
          "name": "stdout",
          "text": [
            "[1] \"c(\\\"judith\\\", \\\"jarvis\\\", \\\"thompson\\\", \\\"is\\\", \\\"the\\\", \\\"best\\\", \\\"philosopher\\\", \\\"of\\\", \\\"all\\\", \\\"time\\\")\"\n"
          ]
        }
      ]
    },
    {
      "cell_type": "code",
      "source": [
        "#Lemmatization\n",
        "library(udpipe)\n",
        "ud_model <- udpipe_download_model(language = \"english\")\n",
        "ud_model <- udpipe_load_model(ud_model$file_model)\n",
        "annotations <- udpipe_annotate(ud_model, x = text)\n",
        "lemmas <- as.data.frame(annotations)$lemma\n",
        "print(lemmas)"
      ],
      "metadata": {
        "colab": {
          "base_uri": "https://localhost:8080/"
        },
        "id": "kl3fuBJ95WZZ",
        "outputId": "a0643fdf-4e42-46ff-a5d8-fc284c935957"
      },
      "execution_count": 63,
      "outputs": [
        {
          "output_type": "stream",
          "name": "stderr",
          "text": [
            "Downloading udpipe model from https://raw.githubusercontent.com/jwijffels/udpipe.models.ud.2.5/master/inst/udpipe-ud-2.5-191206/english-ewt-ud-2.5-191206.udpipe to /content/english-ewt-ud-2.5-191206.udpipe\n",
            "\n",
            " - This model has been trained on version 2.5 of data from https://universaldependencies.org\n",
            "\n",
            " - The model is distributed under the CC-BY-SA-NC license: https://creativecommons.org/licenses/by-nc-sa/4.0\n",
            "\n",
            " - Visit https://github.com/jwijffels/udpipe.models.ud.2.5 for model license details.\n",
            "\n",
            " - For a list of all models and their licenses (most models you can download with this package have either a CC-BY-SA or a CC-BY-SA-NC license) read the documentation at ?udpipe_download_model. For building your own models: visit the documentation by typing vignette('udpipe-train', package = 'udpipe')\n",
            "\n",
            "Downloading finished, model stored at '/content/english-ewt-ud-2.5-191206.udpipe'\n",
            "\n"
          ]
        },
        {
          "output_type": "stream",
          "name": "stdout",
          "text": [
            " [1] \"Judith\"      \"Jarvis\"      \"Thompson\"    \"be\"          \"the\"        \n",
            " [6] \"best\"        \"philosopher\" \"of\"          \"all\"         \"time\"       \n",
            "[11] \".\"          \n"
          ]
        }
      ]
    },
    {
      "cell_type": "markdown",
      "source": [
        "Part of Speech tagging"
      ],
      "metadata": {
        "id": "L3tX0Y3UZWCk"
      }
    },
    {
      "cell_type": "code",
      "source": [
        "parsed <- udpipe_annotate(ud_model, x = text)\n",
        "\n",
        "# Extract part-of-speech tags\n",
        "pos_tags <- as.data.frame(parsed)$upos\n",
        "\n",
        "# Print the part-of-speech tags\n",
        "print(pos_tags)"
      ],
      "metadata": {
        "id": "iK6D-whyZWYO",
        "colab": {
          "base_uri": "https://localhost:8080/"
        },
        "outputId": "d77f9960-e9d6-4f5e-c62e-3ee483c84beb"
      },
      "execution_count": 64,
      "outputs": [
        {
          "output_type": "stream",
          "name": "stdout",
          "text": [
            " [1] \"PROPN\" \"PROPN\" \"PROPN\" \"AUX\"   \"DET\"   \"ADJ\"   \"NOUN\"  \"ADP\"   \"DET\"  \n",
            "[10] \"NOUN\"  \"PUNCT\"\n"
          ]
        }
      ]
    },
    {
      "cell_type": "markdown",
      "source": [
        "Named Entity Recognization"
      ],
      "metadata": {
        "id": "dCb301hmZpO8"
      }
    },
    {
      "cell_type": "code",
      "source": [
        "annotations <- udpipe_annotate(ud_model, x = text)\n",
        "\n",
        "ner_tags <- as.data.frame(annotations)$entity\n",
        "print(ner_tags)"
      ],
      "metadata": {
        "id": "GsSeb_YlZqI9",
        "colab": {
          "base_uri": "https://localhost:8080/"
        },
        "outputId": "75ce5f2f-46a8-4b54-a168-1e6226f482cc"
      },
      "execution_count": 75,
      "outputs": [
        {
          "output_type": "stream",
          "name": "stdout",
          "text": [
            "NULL\n"
          ]
        }
      ]
    },
    {
      "cell_type": "markdown",
      "source": [
        "Scrape data from website"
      ],
      "metadata": {
        "id": "a_42ITcCZqil"
      }
    },
    {
      "cell_type": "code",
      "source": [
        "library(rvest)\n",
        "webpage <- read_html(\"https://www.webbie.org.uk/support.htm\")\n",
        "text <- html_text(webpage)\n",
        "cat(text)"
      ],
      "metadata": {
        "colab": {
          "base_uri": "https://localhost:8080/"
        },
        "id": "096F_34t7SsI",
        "outputId": "1b7c2470-8575-416c-8e8c-5cd4ce57e478"
      },
      "execution_count": 69,
      "outputs": [
        {
          "output_type": "stream",
          "name": "stdout",
          "text": [
            "Support for WebbIE and the Accessible programs\n",
            "\n",
            "\n",
            "WebbIE\n",
            "\n",
            "\n",
            "\n",
            "\n",
            "\n",
            "\n",
            "\n",
            "\n",
            "\n",
            "\n",
            "\n",
            "downloadcontactsupportdocumentationblog\n",
            "\n",
            "\n",
            "Support\n",
            "\n",
            "WebbIE and the Accessible programs are designed to be easy to use, so I hope you do not have too much trouble with them! Of course, things can go wrong, and questions do pop up. Check out some of the helpful pages below, or try Contacting WebbIE support.\n",
            "\n",
            "You should also check out these general tips:\n",
            "Update Windows - you should have the latest patches and service packs for Windows installed. Old versions won't work properly. I leave Windows to update automatically, and unless your screenreader manufacturer tells you not to, you should too. Top tip: leave your computer on overnight once a week, Windows will sort itself out.\n",
            "Switch to Microsoft Security Essentials for your antivirus and Windows Firewall for your firewall. They are free, they come built into Windows, and Alasdair King uses them so the programs work fine with them. Fake virus warnings and firewall problems are the biggest source of problems with the WebbIE programs. \n",
            "Make sure your system clock is set to the correct time and date. Several programs - BBC iPlayer Radio, BBC iPlayer TV, Calendar and Clock - will fail if you don't have the correct time and date set.\n",
            "\n",
            "Specific articles\n",
            "\n",
            "Turning off scripting errors in Internet Explorer and WebbIE programs.\n",
            "Bugs and issues with the latest version of WebbIE\n",
            "Frequently-Asked Questions (FAQ) for WebbIE\n",
            "\n",
            "Getting WebbIE to work with a firewall (ZoneAlarm or Norton Personal Firewall)\n",
            "RealPlayer is no longer used in any WebbIE software. For reference, here is an old support page on RealPlayer: RealPlayer and Real Alternative.\n",
            "\n",
            "\n",
            "\n",
            "\n",
            "\n"
          ]
        }
      ]
    },
    {
      "cell_type": "markdown",
      "source": [
        "Conclusion/Outcome :-\n",
        "1. Identified the Text Analytics Libraries in Python and R\n",
        "2. Performed simple experiments with these libraries in Python and R"
      ],
      "metadata": {
        "id": "yIhveBjjXBwk"
      }
    }
  ]
}